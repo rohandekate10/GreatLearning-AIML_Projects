{
 "cells": [
  {
   "cell_type": "markdown",
   "id": "78c58963",
   "metadata": {},
   "source": [
    "# Part A"
   ]
  },
  {
   "cell_type": "markdown",
   "id": "8155e014",
   "metadata": {},
   "source": [
    "## 1) Please refer the table below to answer below questions:\n",
    "\n",
    "| Planned to Purchase Product A | Actually placed order for Product A - Yes | Actually placed order for Product A - No | Total | \n",
    "| --- | --- | --- | --- |\n",
    "| Yes | 400 | 100 | 500 |\n",
    "| No | 200 | 1300 | 1500 |\n",
    "| Total | 600 | 1400 | 2000 |\n",
    "\n",
    "\n",
    "### 1.A.) Refer above table and find the joint probability of the people who planned to purchase and actually placed an order"
   ]
  },
  {
   "cell_type": "markdown",
   "id": "2926c240",
   "metadata": {},
   "source": [
    "(People who planned to Purchase Product A) AND (People who actually placed an order for Product A) = 400 = m\n",
    "\n",
    "Total People = 2000 = n\n",
    "\n",
    "Joint Probability = m/n"
   ]
  },
  {
   "cell_type": "code",
   "execution_count": 1,
   "id": "69f91e25",
   "metadata": {},
   "outputs": [
    {
     "name": "stdout",
     "output_type": "stream",
     "text": [
      "Joint probability of the people who planned to purchase and actually placed an order =  0.2\n"
     ]
    }
   ],
   "source": [
    "m = 400 #(People who planned to Purchase Product A) AND (People who actually placed an order for Product A)\n",
    "n = 2000 #Total People\n",
    "JointProbability = m/n\n",
    "\n",
    "print(\"Joint probability of the people who planned to purchase and actually placed an order = \",JointProbability)"
   ]
  },
  {
   "cell_type": "markdown",
   "id": "ae9146cc",
   "metadata": {},
   "source": [
    "### 1.B.) Refer to the above table and find the joint probability of the people who planned to purchase and actually placed an order, given that people planned to purchase"
   ]
  },
  {
   "cell_type": "markdown",
   "id": "fb9cb229",
   "metadata": {},
   "source": [
    "It is given that people planned to purchase\n",
    "\n",
    "People who planned to purchase and actually placed an order = 400 = m\n",
    "\n",
    "Thus, the population of total people becomes = 500 = n"
   ]
  },
  {
   "cell_type": "code",
   "execution_count": 2,
   "id": "cb3c8e2f",
   "metadata": {},
   "outputs": [
    {
     "name": "stdout",
     "output_type": "stream",
     "text": [
      "Joint probability of the people who planned to purchase and actually placed an order, given that people planned to purchase =  0.8\n"
     ]
    }
   ],
   "source": [
    "m = 400 #People who planned to purchase and actually placed an order\n",
    "n = 500 #Given that people planned to purchase, Total People\n",
    "JointProbability = m/n\n",
    "\n",
    "print(\"Joint probability of the people who planned to purchase and actually placed an order, given that people planned to purchase = \",JointProbability)"
   ]
  },
  {
   "cell_type": "markdown",
   "id": "8a836749",
   "metadata": {},
   "source": [
    "## 2) An electrical manufacturing company conducts quality checks at specified periods on the products it manufactures. Historically, the failure rate for the manufactured item is 5%. Suppose a random sample of 10 manufactured items is selected. Answer the following questions."
   ]
  },
  {
   "cell_type": "markdown",
   "id": "aa715e62",
   "metadata": {},
   "source": [
    "This question is modelled in the form of a Binomial Distribution.\n",
    "\n",
    "Why? The question talks about discrete random variable in the form of number of defective products. From the given sample, each product can be either OK or DEFECTIVE. In Binomial Distribution terminology, it is equivalent to saying SUCCESS or FAILURE.\n",
    "\n",
    "Let's import the libraries required to solve this and subsequent problems on Probability Distributions."
   ]
  },
  {
   "cell_type": "code",
   "execution_count": 3,
   "id": "019ed6af",
   "metadata": {},
   "outputs": [
    {
     "name": "stdout",
     "output_type": "stream",
     "text": [
      "Libraries: Numpy, Scipy.Stas & Matplotlib imported successfully\n"
     ]
    }
   ],
   "source": [
    "import numpy as np #For Array Operations\n",
    "import scipy.stats as stats #For Various Probability Distribution Calculations\n",
    "import matplotlib.pyplot as plt #For Plotting\n",
    "print(\"Libraries: Numpy, Scipy.Stas & Matplotlib imported successfully\")"
   ]
  },
  {
   "cell_type": "code",
   "execution_count": 4,
   "id": "4937366e",
   "metadata": {},
   "outputs": [
    {
     "name": "stdout",
     "output_type": "stream",
     "text": [
      "Failure rate for manufactured items:p = 0.05 \n",
      "Sample size:n = 10 \n",
      "Array of Samples:k = [ 0  1  2  3  4  5  6  7  8  9 10]\n"
     ]
    }
   ],
   "source": [
    "p   =  0.05 # failure rate for manufactured items is 5%\n",
    "n   =  10 # sample size\n",
    "k   =  np.arange(0,11) # An array of random variables representing number of defectives OR P(X=k)\n",
    "print('Failure rate for manufactured items:p =',p,\"\\nSample size:n =\",n,\"\\nArray of Samples:k =\",k)"
   ]
  },
  {
   "cell_type": "code",
   "execution_count": 5,
   "id": "6722f3d3",
   "metadata": {},
   "outputs": [
    {
     "name": "stdout",
     "output_type": "stream",
     "text": [
      "[5.98736939e-01 3.15124705e-01 7.46347985e-02 1.04750594e-02\n",
      " 9.64808106e-04 6.09352488e-05 2.67259863e-06 8.03789063e-08\n",
      " 1.58642578e-09 1.85546875e-11 9.76562500e-14]\n"
     ]
    }
   ],
   "source": [
    "binomial = stats.binom.pmf(k,n,p) #P(X=0,1,2...,10)\n",
    "print(binomial)"
   ]
  },
  {
   "cell_type": "markdown",
   "id": "91252370",
   "metadata": {},
   "source": [
    "### 2.A.) Probability that none of the items are defective?"
   ]
  },
  {
   "cell_type": "code",
   "execution_count": 6,
   "id": "d3a17336",
   "metadata": {},
   "outputs": [
    {
     "name": "stdout",
     "output_type": "stream",
     "text": [
      "Probability that none of the items are defective is 0.5987\n"
     ]
    }
   ],
   "source": [
    "#P(X=0)\n",
    "print('Probability that none of the items are defective is %1.4f' %binomial[0])"
   ]
  },
  {
   "cell_type": "markdown",
   "id": "3a204f3a",
   "metadata": {},
   "source": [
    "### 2.B.) Probability that exactly one of the items is defective?"
   ]
  },
  {
   "cell_type": "code",
   "execution_count": 7,
   "id": "9bb289d0",
   "metadata": {},
   "outputs": [
    {
     "name": "stdout",
     "output_type": "stream",
     "text": [
      "Probability that exactly one of the items is defective is 0.3151\n"
     ]
    }
   ],
   "source": [
    "#P(X=1)\n",
    "print('Probability that exactly one of the items is defective is %1.4f' %binomial[1])"
   ]
  },
  {
   "cell_type": "markdown",
   "id": "666cca98",
   "metadata": {},
   "source": [
    "### 2.C.) Probability that two or fewer of the items are defective?\n",
    "To find the answer for this question, we need to calculate cumulative probability of upto 2 defective items"
   ]
  },
  {
   "cell_type": "code",
   "execution_count": 8,
   "id": "10b920c4",
   "metadata": {},
   "outputs": [
    {
     "name": "stdout",
     "output_type": "stream",
     "text": [
      "[0.59873694 0.91386164 0.98849644 0.9989715  0.99993631 0.99999725\n",
      " 0.99999992 1.         1.         1.         1.        ]\n",
      "\n",
      "Probability that two or fewer of the items are defective is 0.9885\n"
     ]
    }
   ],
   "source": [
    "cumbinomial = stats.binom.cdf(k,n,p)#Cumulative Probabilities of Binomial Distribution OR P(X<=2)\n",
    "print(cumbinomial)\n",
    "print(\"\")\n",
    "print('Probability that two or fewer of the items are defective is %1.4f' %cumbinomial[2])"
   ]
  },
  {
   "cell_type": "markdown",
   "id": "ba698dfb",
   "metadata": {},
   "source": [
    "### 2.D.) Probability that three or more of the items are defective ?"
   ]
  },
  {
   "cell_type": "code",
   "execution_count": 9,
   "id": "2af5e552",
   "metadata": {},
   "outputs": [
    {
     "name": "stdout",
     "output_type": "stream",
     "text": [
      "Probability that three or more of the items are defective is 0.0115\n"
     ]
    }
   ],
   "source": [
    "P = 1- cumbinomial[2]#Removing the cumulative probability of two or fewer items defective OR P(X>=3)\n",
    "print('Probability that three or more of the items are defective is %1.4f' % P)"
   ]
  },
  {
   "cell_type": "markdown",
   "id": "57f456f7",
   "metadata": {},
   "source": [
    "## 3) A car salesman sells on an average 3 cars per week.\n",
    "This is a typical Poisson Distribution problem as the rate is given and probabilities are expected to be calculated."
   ]
  },
  {
   "cell_type": "code",
   "execution_count": 10,
   "id": "f725023b",
   "metadata": {},
   "outputs": [
    {
     "name": "stdout",
     "output_type": "stream",
     "text": [
      "[0.04978707 0.19914827 0.42319008 0.64723189 0.81526324 0.91608206\n",
      " 0.96649146 0.9880955  0.99619701 0.99889751 0.99970766 0.99992861\n",
      " 0.99998385 0.9999966  0.99999933 0.99999988 0.99999998 1.\n",
      " 1.         1.        ]\n"
     ]
    }
   ],
   "source": [
    "rate =  3 #Cars sold per week\n",
    "n    =  np.arange(0,20) #Array of Random Variables OR P(X=n)\n",
    "#20 is randomly chosen until the probability converges to 1\n",
    "cumpoisson = stats.poisson.cdf(n,rate) #Cumulative Poisson Distribution Probabilities\n",
    "print(cumpoisson)"
   ]
  },
  {
   "cell_type": "markdown",
   "id": "758c7af7",
   "metadata": {},
   "source": [
    "### 3.A.) What is Probability that in a given week he will sell some cars?"
   ]
  },
  {
   "cell_type": "code",
   "execution_count": 11,
   "id": "fb1c7b3a",
   "metadata": {},
   "outputs": [
    {
     "name": "stdout",
     "output_type": "stream",
     "text": [
      "Probability that in a given week the salesman will sell some cars is 0.9502\n"
     ]
    }
   ],
   "source": [
    "P   = 1 - cumpoisson[0]#P = probability that the salesman sells some cars\n",
    "print('Probability that in a given week the salesman will sell some cars is %1.4f' % P)"
   ]
  },
  {
   "cell_type": "markdown",
   "id": "952d781c",
   "metadata": {},
   "source": [
    "### 3.B.) What is Probability that in a given week he will sell 2 or more but less than 5 cars?"
   ]
  },
  {
   "cell_type": "code",
   "execution_count": 12,
   "id": "a2c0fa7b",
   "metadata": {},
   "outputs": [
    {
     "name": "stdout",
     "output_type": "stream",
     "text": [
      "Probability that in a given week the salesman will sell 2 or more but less than 5 cars is 0.6161\n"
     ]
    }
   ],
   "source": [
    "# Let P1 be the probability that the salesman sells more than 4 cars\n",
    "P1 = cumpoisson[4] # P(X >=4)\n",
    "# Let P2 be the probability that the salesman sells more than 1 car\n",
    "P2 = cumpoisson[1] # P(X >=1)\n",
    "P = P1 - P2 # Probability that the salesman will sell between 2 and 5 cars OR P(2<=X<5)\n",
    "print('Probability that in a given week the salesman will sell 2 or more but less than 5 cars is %1.4f' % P)"
   ]
  },
  {
   "cell_type": "markdown",
   "id": "2c2a44e8",
   "metadata": {},
   "source": [
    "### 3.C.) Plot the poisson distribution function for cumulative probability of cars sold per-week vs number of cars sold per week."
   ]
  },
  {
   "cell_type": "code",
   "execution_count": 13,
   "id": "b6a5e2c6",
   "metadata": {},
   "outputs": [
    {
     "data": {
      "image/png": "[encoded data removed]",
      "text/plain": [
       "<Figure size 432x288 with 1 Axes>"
      ]
     },
     "metadata": {
      "needs_background": "light"
     },
     "output_type": "display_data"
    }
   ],
   "source": [
    "poisson = stats.poisson.pmf(n,rate)\n",
    "plt.plot(n,poisson, 'o-')\n",
    "plt.title('Poisson Distribution')\n",
    "plt.xlabel('Number of Cars sold per week')\n",
    "plt.ylabel('Cumulative Prob of Cars sold per-week')\n",
    "plt.show()"
   ]
  },
  {
   "cell_type": "markdown",
   "id": "2971ccb9",
   "metadata": {},
   "source": [
    "## 4) Accuracy in understanding orders for a speech based bot at a restaurant is important for the Company X which has designed, marketed and launched the product for a contactless delivery due to the COVID-19 pandemic. Recognition accuracy that measures the percentage of orders that are taken correctly is 86.8%. Suppose that you place an order with the bot and two friends of yours independently place orders with the same bot. Answer the following questions.\n",
    "\n",
    "This is also a problem in Binomial Distribution where the sample size is 3 and SUCCESS is percentage of orders that are taken correctly, which is 86.8%"
   ]
  },
  {
   "cell_type": "code",
   "execution_count": 14,
   "id": "6ef5bf0d",
   "metadata": {},
   "outputs": [
    {
     "name": "stdout",
     "output_type": "stream",
     "text": [
      "Recognition:p = 0.868 \n",
      "Sample size:n = 3 \n",
      "Array of Samples:k = [0 1 2 3]\n"
     ]
    }
   ],
   "source": [
    "p1   =  0.868 # Recognition Accuracy\n",
    "n1   =  3 # sample size\n",
    "k1   =  np.arange(0,4) # An array of random variables OR P(X=k)\n",
    "print('Recognition:p =',p1,\"\\nSample size:n =\",n1,\"\\nArray of Samples:k =\",k1)"
   ]
  },
  {
   "cell_type": "code",
   "execution_count": 15,
   "id": "a15668d6",
   "metadata": {},
   "outputs": [
    {
     "name": "stdout",
     "output_type": "stream",
     "text": [
      "[0.00229997 0.0453721  0.2983559  0.65397203]\n"
     ]
    }
   ],
   "source": [
    "binomial = stats.binom.pmf(k1,n1,p1) #P(X=0,1,2,3)\n",
    "print(binomial)"
   ]
  },
  {
   "cell_type": "markdown",
   "id": "aa876482",
   "metadata": {},
   "source": [
    "### 4.A. What is the probability that all three orders will be recognised correctly?"
   ]
  },
  {
   "cell_type": "code",
   "execution_count": 16,
   "id": "6f1de098",
   "metadata": {},
   "outputs": [
    {
     "name": "stdout",
     "output_type": "stream",
     "text": [
      "Probability that all three orders will be recognised correctly is 0.6540\n"
     ]
    }
   ],
   "source": [
    "#P(X=3)\n",
    "print('Probability that all three orders will be recognised correctly is %1.4f' %binomial[3])"
   ]
  },
  {
   "cell_type": "markdown",
   "id": "390a35c7",
   "metadata": {},
   "source": [
    "### 4.B. What is the probability that none of the three orders will be recognised correctly?"
   ]
  },
  {
   "cell_type": "code",
   "execution_count": 17,
   "id": "7645419b",
   "metadata": {},
   "outputs": [
    {
     "name": "stdout",
     "output_type": "stream",
     "text": [
      "Probability that none of the three orders will be recognised correctly is 0.0023\n"
     ]
    }
   ],
   "source": [
    "#P(X=0)\n",
    "print('Probability that none of the three orders will be recognised correctly is %1.4f' %binomial[0])"
   ]
  },
  {
   "cell_type": "markdown",
   "id": "b03900cc",
   "metadata": {},
   "source": [
    "### 4.C. What is the probability that at least two of the three orders will be recognised correctly?"
   ]
  },
  {
   "cell_type": "code",
   "execution_count": 18,
   "id": "0f1ce9f4",
   "metadata": {},
   "outputs": [
    {
     "name": "stdout",
     "output_type": "stream",
     "text": [
      "Probability that at least two of the three orders will be recognised correctly is  0.9523\n"
     ]
    }
   ],
   "source": [
    "#P(X>=2) = P(X=2) + P(X=3)\n",
    "P_2 = binomial[2]\n",
    "P_3 = binomial[3]\n",
    "print(\"Probability that at least two of the three orders will be recognised correctly is \", round(P_2+P_3,4))"
   ]
  },
  {
   "cell_type": "markdown",
   "id": "b84f8ebb",
   "metadata": {},
   "source": [
    "## 5) Explain 1 real life industry scenario (other than the ones mentioned above) where you can use the concepts learnt in this module of Applied Statistics to get data driven business solution.\n",
    "\n",
    "**Automobile Industry**\n",
    "\n",
    "The number of vehicles produced per shift by a mass vehicle manufacturer is very important, like Maruti or Hero MotoCorp as they have huge sale volumes. The probability to meet production targets during lean and crunch (festive) months helps companies in planning their supply chain and labour requirements. In this case Poisson distribution can be used. Companies have production targets to be met in order to satisfy the customer demand. The targets can be broken down to per shift basis. The company is required to produce a certain number of vehicles per shift to meet the stipulated targets. The distribution can help understand weekly, monthly, seasonal discrepancies and forecast production optimally. The kind of management questions that can be answered through this are:\n",
    "\n",
    "1) What is the probability to produce 'x' cars in a shift given the rate of production per shift is 'y'?\n",
    "2) What is the probability to produce cars between 'x' and 'y' in a shift, given the rate of production per shift is 'z'?"
   ]
  },
  {
   "cell_type": "markdown",
   "id": "6f92413e",
   "metadata": {},
   "source": [
    "# Part B\n",
    "\n",
    "### DOMAIN: \n",
    "Sports\n",
    "### CONTEXT: \n",
    "Company X manages the men's top professional basketball division of the American league system. The dataset contains information on all the teams that have participated in all the past tournaments. It has data about how many baskets each team scored, conceded, how many times they came within the first 2 positions, how many tournaments they have qualified, their best position in the past, etc.\n",
    "### DATA DESCRIPTION: \n",
    "Basketball.csv - The data set contains information on all the teams so far participated in all the past tournaments.\n",
    "### DATA DICTIONARY:\n",
    "1. Team: Team’s name\n",
    "2. Tournament: Number of played tournaments.\n",
    "3. Score: Team’s score so far.\n",
    "4. PlayedGames: Games played by the team so far.\n",
    "5. WonGames: Games won by the team so far.\n",
    "6. DrawnGames: Games drawn by the team so far.\n",
    "7. LostGames: Games lost by the team so far.\n",
    "8. BasketScored: Basket scored by the team so far.\n",
    "9. BasketGiven: Basket scored against the team so far.\n",
    "10. TournamentChampion: How many times the team was a champion of the tournaments so far.\n",
    "11. Runner-up: How many times the team was a runners-up of the tournaments so far.\n",
    "12. TeamLaunch: Year the team was launched on professional basketball.\n",
    "13. HighestPositionHeld: Highest position held by the team amongst all the tournaments played.\n",
    "\n",
    "### PROJECT OBJECTIVE:\n",
    "Company’s management wants to invest on proposals on managing some of the best teams in the league. The analytics department has been assigned with a task of creating a report on the performance shown by the teams. Some of the older teams are already in contract with competitors. Hence Company X wants to understand which teams they can approach which will be a deal win for them.\n",
    "\n",
    "## 1.) Read the data set, clean the data and prepare final dataset to be used for analysis."
   ]
  },
  {
   "cell_type": "markdown",
   "id": "a4ae2208",
   "metadata": {},
   "source": [
    "### Import Python Libraries"
   ]
  },
  {
   "cell_type": "code",
   "execution_count": 19,
   "id": "e6b3640e",
   "metadata": {},
   "outputs": [
    {
     "name": "stdout",
     "output_type": "stream",
     "text": [
      "Libraries imported successfully\n"
     ]
    }
   ],
   "source": [
    "import pandas as pd\n",
    "import numpy as np\n",
    "import matplotlib.pyplot as plt\n",
    "%matplotlib inline\n",
    "import seaborn as sns\n",
    "print('Libraries imported successfully')"
   ]
  },
  {
   "cell_type": "markdown",
   "id": "94e62eae",
   "metadata": {},
   "source": [
    "### Read the data set"
   ]
  },
  {
   "cell_type": "code",
   "execution_count": 20,
   "id": "f7a4d427",
   "metadata": {},
   "outputs": [
    {
     "data": {
      "text/html": [
       "<div>\n",
       "<style scoped>\n",
       "    .dataframe tbody tr th:only-of-type {\n",
       "        vertical-align: middle;\n",
       "    }\n",
       "\n",
       "    .dataframe tbody tr th {\n",
       "        vertical-align: top;\n",
       "    }\n",
       "\n",
       "    .dataframe thead th {\n",
       "        text-align: right;\n",
       "    }\n",
       "</style>\n",
       "<table border=\"1\" class=\"dataframe\">\n",
       "  <thead>\n",
       "    <tr style=\"text-align: right;\">\n",
       "      <th></th>\n",
       "      <th>Team</th>\n",
       "      <th>Tournament</th>\n",
       "      <th>Score</th>\n",
       "      <th>PlayedGames</th>\n",
       "      <th>WonGames</th>\n",
       "      <th>DrawnGames</th>\n",
       "      <th>LostGames</th>\n",
       "      <th>BasketScored</th>\n",
       "      <th>BasketGiven</th>\n",
       "      <th>TournamentChampion</th>\n",
       "      <th>Runner-up</th>\n",
       "      <th>TeamLaunch</th>\n",
       "      <th>HighestPositionHeld</th>\n",
       "    </tr>\n",
       "  </thead>\n",
       "  <tbody>\n",
       "    <tr>\n",
       "      <th>0</th>\n",
       "      <td>Team 1</td>\n",
       "      <td>86</td>\n",
       "      <td>4385</td>\n",
       "      <td>2762</td>\n",
       "      <td>1647</td>\n",
       "      <td>552</td>\n",
       "      <td>563</td>\n",
       "      <td>5947</td>\n",
       "      <td>3140</td>\n",
       "      <td>33</td>\n",
       "      <td>23</td>\n",
       "      <td>1929</td>\n",
       "      <td>1</td>\n",
       "    </tr>\n",
       "    <tr>\n",
       "      <th>1</th>\n",
       "      <td>Team 2</td>\n",
       "      <td>86</td>\n",
       "      <td>4262</td>\n",
       "      <td>2762</td>\n",
       "      <td>1581</td>\n",
       "      <td>573</td>\n",
       "      <td>608</td>\n",
       "      <td>5900</td>\n",
       "      <td>3114</td>\n",
       "      <td>25</td>\n",
       "      <td>25</td>\n",
       "      <td>1929</td>\n",
       "      <td>1</td>\n",
       "    </tr>\n",
       "    <tr>\n",
       "      <th>2</th>\n",
       "      <td>Team 3</td>\n",
       "      <td>80</td>\n",
       "      <td>3442</td>\n",
       "      <td>2614</td>\n",
       "      <td>1241</td>\n",
       "      <td>598</td>\n",
       "      <td>775</td>\n",
       "      <td>4534</td>\n",
       "      <td>3309</td>\n",
       "      <td>10</td>\n",
       "      <td>8</td>\n",
       "      <td>1929</td>\n",
       "      <td>1</td>\n",
       "    </tr>\n",
       "    <tr>\n",
       "      <th>3</th>\n",
       "      <td>Team 4</td>\n",
       "      <td>82</td>\n",
       "      <td>3386</td>\n",
       "      <td>2664</td>\n",
       "      <td>1187</td>\n",
       "      <td>616</td>\n",
       "      <td>861</td>\n",
       "      <td>4398</td>\n",
       "      <td>3469</td>\n",
       "      <td>6</td>\n",
       "      <td>6</td>\n",
       "      <td>1931to32</td>\n",
       "      <td>1</td>\n",
       "    </tr>\n",
       "    <tr>\n",
       "      <th>4</th>\n",
       "      <td>Team 5</td>\n",
       "      <td>86</td>\n",
       "      <td>3368</td>\n",
       "      <td>2762</td>\n",
       "      <td>1209</td>\n",
       "      <td>633</td>\n",
       "      <td>920</td>\n",
       "      <td>4631</td>\n",
       "      <td>3700</td>\n",
       "      <td>8</td>\n",
       "      <td>7</td>\n",
       "      <td>1929</td>\n",
       "      <td>1</td>\n",
       "    </tr>\n",
       "  </tbody>\n",
       "</table>\n",
       "</div>"
      ],
      "text/plain": [
       "     Team  Tournament Score PlayedGames WonGames DrawnGames LostGames  \\\n",
       "0  Team 1          86  4385        2762     1647        552       563   \n",
       "1  Team 2          86  4262        2762     1581        573       608   \n",
       "2  Team 3          80  3442        2614     1241        598       775   \n",
       "3  Team 4          82  3386        2664     1187        616       861   \n",
       "4  Team 5          86  3368        2762     1209        633       920   \n",
       "\n",
       "  BasketScored BasketGiven TournamentChampion Runner-up TeamLaunch  \\\n",
       "0         5947        3140                 33        23       1929   \n",
       "1         5900        3114                 25        25       1929   \n",
       "2         4534        3309                 10         8       1929   \n",
       "3         4398        3469                  6         6   1931to32   \n",
       "4         4631        3700                  8         7       1929   \n",
       "\n",
       "   HighestPositionHeld  \n",
       "0                    1  \n",
       "1                    1  \n",
       "2                    1  \n",
       "3                    1  \n",
       "4                    1  "
      ]
     },
     "execution_count": 20,
     "metadata": {},
     "output_type": "execute_result"
    }
   ],
   "source": [
    "df1 = pd.read_csv(\"DS - Part2 - Basketball.csv\") # Load the dataset in Pandas dataframe\n",
    "df1.head() # Display first 5 rows"
   ]
  },
  {
   "cell_type": "markdown",
   "id": "bb0f0702",
   "metadata": {},
   "source": [
    "From the first 5 rows of the dataset, the table looks OK. However, this does not give us any indication of the datatypes.\n",
    "Also one value in TeamLaunch column in 1931to32 which can create problem in EDA. This column needs to be checked and rectified as required."
   ]
  },
  {
   "cell_type": "markdown",
   "id": "58dff17d",
   "metadata": {},
   "source": [
    "### Clean the data"
   ]
  },
  {
   "cell_type": "code",
   "execution_count": 21,
   "id": "7a7221e1",
   "metadata": {},
   "outputs": [
    {
     "data": {
      "text/plain": [
       "(61, 13)"
      ]
     },
     "execution_count": 21,
     "metadata": {},
     "output_type": "execute_result"
    }
   ],
   "source": [
    "df1.shape # Check the size of the tabular data"
   ]
  },
  {
   "cell_type": "markdown",
   "id": "e1f3449b",
   "metadata": {},
   "source": [
    "There are 61 rows and 13 columns in the dataframe basketball."
   ]
  },
  {
   "cell_type": "code",
   "execution_count": 22,
   "id": "4661bea9",
   "metadata": {},
   "outputs": [
    {
     "name": "stdout",
     "output_type": "stream",
     "text": [
      "<class 'pandas.core.frame.DataFrame'>\n",
      "RangeIndex: 61 entries, 0 to 60\n",
      "Data columns (total 13 columns):\n",
      " #   Column               Non-Null Count  Dtype \n",
      "---  ------               --------------  ----- \n",
      " 0   Team                 61 non-null     object\n",
      " 1   Tournament           61 non-null     int64 \n",
      " 2   Score                61 non-null     object\n",
      " 3   PlayedGames          61 non-null     object\n",
      " 4   WonGames             61 non-null     object\n",
      " 5   DrawnGames           61 non-null     object\n",
      " 6   LostGames            61 non-null     object\n",
      " 7   BasketScored         61 non-null     object\n",
      " 8   BasketGiven          61 non-null     object\n",
      " 9   TournamentChampion   61 non-null     object\n",
      " 10  Runner-up            61 non-null     object\n",
      " 11  TeamLaunch           61 non-null     object\n",
      " 12  HighestPositionHeld  61 non-null     int64 \n",
      "dtypes: int64(2), object(11)\n",
      "memory usage: 6.3+ KB\n"
     ]
    }
   ],
   "source": [
    "df1.info() # Check basic information about the dataframe"
   ]
  },
  {
   "cell_type": "markdown",
   "id": "a1008414",
   "metadata": {},
   "source": [
    "The Team column should be the only column with 'object' data type as it is a categorical variable.\n",
    "\n",
    "But, only Tournament and HighestPositionHeld columns have 'int64' data type."
   ]
  },
  {
   "cell_type": "code",
   "execution_count": 23,
   "id": "74efb4da",
   "metadata": {},
   "outputs": [
    {
     "data": {
      "text/html": [
       "<div>\n",
       "<style scoped>\n",
       "    .dataframe tbody tr th:only-of-type {\n",
       "        vertical-align: middle;\n",
       "    }\n",
       "\n",
       "    .dataframe tbody tr th {\n",
       "        vertical-align: top;\n",
       "    }\n",
       "\n",
       "    .dataframe thead th {\n",
       "        text-align: right;\n",
       "    }\n",
       "</style>\n",
       "<table border=\"1\" class=\"dataframe\">\n",
       "  <thead>\n",
       "    <tr style=\"text-align: right;\">\n",
       "      <th></th>\n",
       "      <th>Team</th>\n",
       "      <th>Tournament</th>\n",
       "      <th>Score</th>\n",
       "      <th>PlayedGames</th>\n",
       "      <th>WonGames</th>\n",
       "      <th>DrawnGames</th>\n",
       "      <th>LostGames</th>\n",
       "      <th>BasketScored</th>\n",
       "      <th>BasketGiven</th>\n",
       "      <th>TournamentChampion</th>\n",
       "      <th>Runner-up</th>\n",
       "      <th>TeamLaunch</th>\n",
       "      <th>HighestPositionHeld</th>\n",
       "    </tr>\n",
       "  </thead>\n",
       "  <tbody>\n",
       "    <tr>\n",
       "      <th>count</th>\n",
       "      <td>61</td>\n",
       "      <td>61.000000</td>\n",
       "      <td>61</td>\n",
       "      <td>61</td>\n",
       "      <td>61</td>\n",
       "      <td>61</td>\n",
       "      <td>61</td>\n",
       "      <td>61</td>\n",
       "      <td>61</td>\n",
       "      <td>61</td>\n",
       "      <td>61</td>\n",
       "      <td>61</td>\n",
       "      <td>61.000000</td>\n",
       "    </tr>\n",
       "    <tr>\n",
       "      <th>unique</th>\n",
       "      <td>61</td>\n",
       "      <td>NaN</td>\n",
       "      <td>61</td>\n",
       "      <td>53</td>\n",
       "      <td>59</td>\n",
       "      <td>57</td>\n",
       "      <td>56</td>\n",
       "      <td>60</td>\n",
       "      <td>61</td>\n",
       "      <td>8</td>\n",
       "      <td>10</td>\n",
       "      <td>47</td>\n",
       "      <td>NaN</td>\n",
       "    </tr>\n",
       "    <tr>\n",
       "      <th>top</th>\n",
       "      <td>Team 39</td>\n",
       "      <td>NaN</td>\n",
       "      <td>553</td>\n",
       "      <td>30</td>\n",
       "      <td>8</td>\n",
       "      <td>95</td>\n",
       "      <td>37</td>\n",
       "      <td>70</td>\n",
       "      <td>252</td>\n",
       "      <td>-</td>\n",
       "      <td>-</td>\n",
       "      <td>1929</td>\n",
       "      <td>NaN</td>\n",
       "    </tr>\n",
       "    <tr>\n",
       "      <th>freq</th>\n",
       "      <td>1</td>\n",
       "      <td>NaN</td>\n",
       "      <td>1</td>\n",
       "      <td>3</td>\n",
       "      <td>2</td>\n",
       "      <td>2</td>\n",
       "      <td>3</td>\n",
       "      <td>2</td>\n",
       "      <td>1</td>\n",
       "      <td>52</td>\n",
       "      <td>48</td>\n",
       "      <td>10</td>\n",
       "      <td>NaN</td>\n",
       "    </tr>\n",
       "    <tr>\n",
       "      <th>mean</th>\n",
       "      <td>NaN</td>\n",
       "      <td>24.000000</td>\n",
       "      <td>NaN</td>\n",
       "      <td>NaN</td>\n",
       "      <td>NaN</td>\n",
       "      <td>NaN</td>\n",
       "      <td>NaN</td>\n",
       "      <td>NaN</td>\n",
       "      <td>NaN</td>\n",
       "      <td>NaN</td>\n",
       "      <td>NaN</td>\n",
       "      <td>NaN</td>\n",
       "      <td>7.081967</td>\n",
       "    </tr>\n",
       "    <tr>\n",
       "      <th>std</th>\n",
       "      <td>NaN</td>\n",
       "      <td>26.827225</td>\n",
       "      <td>NaN</td>\n",
       "      <td>NaN</td>\n",
       "      <td>NaN</td>\n",
       "      <td>NaN</td>\n",
       "      <td>NaN</td>\n",
       "      <td>NaN</td>\n",
       "      <td>NaN</td>\n",
       "      <td>NaN</td>\n",
       "      <td>NaN</td>\n",
       "      <td>NaN</td>\n",
       "      <td>5.276663</td>\n",
       "    </tr>\n",
       "    <tr>\n",
       "      <th>min</th>\n",
       "      <td>NaN</td>\n",
       "      <td>1.000000</td>\n",
       "      <td>NaN</td>\n",
       "      <td>NaN</td>\n",
       "      <td>NaN</td>\n",
       "      <td>NaN</td>\n",
       "      <td>NaN</td>\n",
       "      <td>NaN</td>\n",
       "      <td>NaN</td>\n",
       "      <td>NaN</td>\n",
       "      <td>NaN</td>\n",
       "      <td>NaN</td>\n",
       "      <td>1.000000</td>\n",
       "    </tr>\n",
       "    <tr>\n",
       "      <th>25%</th>\n",
       "      <td>NaN</td>\n",
       "      <td>4.000000</td>\n",
       "      <td>NaN</td>\n",
       "      <td>NaN</td>\n",
       "      <td>NaN</td>\n",
       "      <td>NaN</td>\n",
       "      <td>NaN</td>\n",
       "      <td>NaN</td>\n",
       "      <td>NaN</td>\n",
       "      <td>NaN</td>\n",
       "      <td>NaN</td>\n",
       "      <td>NaN</td>\n",
       "      <td>3.000000</td>\n",
       "    </tr>\n",
       "    <tr>\n",
       "      <th>50%</th>\n",
       "      <td>NaN</td>\n",
       "      <td>12.000000</td>\n",
       "      <td>NaN</td>\n",
       "      <td>NaN</td>\n",
       "      <td>NaN</td>\n",
       "      <td>NaN</td>\n",
       "      <td>NaN</td>\n",
       "      <td>NaN</td>\n",
       "      <td>NaN</td>\n",
       "      <td>NaN</td>\n",
       "      <td>NaN</td>\n",
       "      <td>NaN</td>\n",
       "      <td>6.000000</td>\n",
       "    </tr>\n",
       "    <tr>\n",
       "      <th>75%</th>\n",
       "      <td>NaN</td>\n",
       "      <td>38.000000</td>\n",
       "      <td>NaN</td>\n",
       "      <td>NaN</td>\n",
       "      <td>NaN</td>\n",
       "      <td>NaN</td>\n",
       "      <td>NaN</td>\n",
       "      <td>NaN</td>\n",
       "      <td>NaN</td>\n",
       "      <td>NaN</td>\n",
       "      <td>NaN</td>\n",
       "      <td>NaN</td>\n",
       "      <td>10.000000</td>\n",
       "    </tr>\n",
       "    <tr>\n",
       "      <th>max</th>\n",
       "      <td>NaN</td>\n",
       "      <td>86.000000</td>\n",
       "      <td>NaN</td>\n",
       "      <td>NaN</td>\n",
       "      <td>NaN</td>\n",
       "      <td>NaN</td>\n",
       "      <td>NaN</td>\n",
       "      <td>NaN</td>\n",
       "      <td>NaN</td>\n",
       "      <td>NaN</td>\n",
       "      <td>NaN</td>\n",
       "      <td>NaN</td>\n",
       "      <td>20.000000</td>\n",
       "    </tr>\n",
       "  </tbody>\n",
       "</table>\n",
       "</div>"
      ],
      "text/plain": [
       "           Team  Tournament Score PlayedGames WonGames DrawnGames LostGames  \\\n",
       "count        61   61.000000    61          61       61         61        61   \n",
       "unique       61         NaN    61          53       59         57        56   \n",
       "top     Team 39         NaN   553          30        8         95        37   \n",
       "freq          1         NaN     1           3        2          2         3   \n",
       "mean        NaN   24.000000   NaN         NaN      NaN        NaN       NaN   \n",
       "std         NaN   26.827225   NaN         NaN      NaN        NaN       NaN   \n",
       "min         NaN    1.000000   NaN         NaN      NaN        NaN       NaN   \n",
       "25%         NaN    4.000000   NaN         NaN      NaN        NaN       NaN   \n",
       "50%         NaN   12.000000   NaN         NaN      NaN        NaN       NaN   \n",
       "75%         NaN   38.000000   NaN         NaN      NaN        NaN       NaN   \n",
       "max         NaN   86.000000   NaN         NaN      NaN        NaN       NaN   \n",
       "\n",
       "       BasketScored BasketGiven TournamentChampion Runner-up TeamLaunch  \\\n",
       "count            61          61                 61        61         61   \n",
       "unique           60          61                  8        10         47   \n",
       "top              70         252                  -         -       1929   \n",
       "freq              2           1                 52        48         10   \n",
       "mean            NaN         NaN                NaN       NaN        NaN   \n",
       "std             NaN         NaN                NaN       NaN        NaN   \n",
       "min             NaN         NaN                NaN       NaN        NaN   \n",
       "25%             NaN         NaN                NaN       NaN        NaN   \n",
       "50%             NaN         NaN                NaN       NaN        NaN   \n",
       "75%             NaN         NaN                NaN       NaN        NaN   \n",
       "max             NaN         NaN                NaN       NaN        NaN   \n",
       "\n",
       "        HighestPositionHeld  \n",
       "count             61.000000  \n",
       "unique                  NaN  \n",
       "top                     NaN  \n",
       "freq                    NaN  \n",
       "mean               7.081967  \n",
       "std                5.276663  \n",
       "min                1.000000  \n",
       "25%                3.000000  \n",
       "50%                6.000000  \n",
       "75%               10.000000  \n",
       "max               20.000000  "
      ]
     },
     "execution_count": 23,
     "metadata": {},
     "output_type": "execute_result"
    }
   ],
   "source": [
    "df1.describe(include='all') # Check basic statistics of the dataframe"
   ]
  },
  {
   "cell_type": "markdown",
   "id": "8693e18c",
   "metadata": {},
   "source": [
    "Statistics for only 2 columns (Tournament & HighestPositionHeld) are being displayed indicating that the other columns are recognized as non-numerical by Pandas.\n",
    "Most of the numerical columns are not populating descriptive statistics and instead showing NaN.\n",
    "TournamentChampion and Runner-up columns have - in top row indicating that some rows in these columns don't have numerical values."
   ]
  },
  {
   "cell_type": "code",
   "execution_count": 24,
   "id": "a1ac262c",
   "metadata": {},
   "outputs": [
    {
     "data": {
      "text/html": [
       "<div>\n",
       "<style scoped>\n",
       "    .dataframe tbody tr th:only-of-type {\n",
       "        vertical-align: middle;\n",
       "    }\n",
       "\n",
       "    .dataframe tbody tr th {\n",
       "        vertical-align: top;\n",
       "    }\n",
       "\n",
       "    .dataframe thead th {\n",
       "        text-align: right;\n",
       "    }\n",
       "</style>\n",
       "<table border=\"1\" class=\"dataframe\">\n",
       "  <thead>\n",
       "    <tr style=\"text-align: right;\">\n",
       "      <th></th>\n",
       "      <th>Team</th>\n",
       "      <th>Tournament</th>\n",
       "      <th>Score</th>\n",
       "      <th>PlayedGames</th>\n",
       "      <th>WonGames</th>\n",
       "      <th>DrawnGames</th>\n",
       "      <th>LostGames</th>\n",
       "      <th>BasketScored</th>\n",
       "      <th>BasketGiven</th>\n",
       "      <th>TournamentChampion</th>\n",
       "      <th>Runner-up</th>\n",
       "      <th>TeamLaunch</th>\n",
       "      <th>HighestPositionHeld</th>\n",
       "    </tr>\n",
       "  </thead>\n",
       "  <tbody>\n",
       "    <tr>\n",
       "      <th>56</th>\n",
       "      <td>Team 57</td>\n",
       "      <td>1</td>\n",
       "      <td>34</td>\n",
       "      <td>38</td>\n",
       "      <td>8</td>\n",
       "      <td>10</td>\n",
       "      <td>20</td>\n",
       "      <td>38</td>\n",
       "      <td>66</td>\n",
       "      <td>-</td>\n",
       "      <td>-</td>\n",
       "      <td>2009-10</td>\n",
       "      <td>20</td>\n",
       "    </tr>\n",
       "    <tr>\n",
       "      <th>57</th>\n",
       "      <td>Team 58</td>\n",
       "      <td>1</td>\n",
       "      <td>22</td>\n",
       "      <td>30</td>\n",
       "      <td>7</td>\n",
       "      <td>8</td>\n",
       "      <td>15</td>\n",
       "      <td>37</td>\n",
       "      <td>57</td>\n",
       "      <td>-</td>\n",
       "      <td>-</td>\n",
       "      <td>1956-57</td>\n",
       "      <td>16</td>\n",
       "    </tr>\n",
       "    <tr>\n",
       "      <th>58</th>\n",
       "      <td>Team 59</td>\n",
       "      <td>1</td>\n",
       "      <td>19</td>\n",
       "      <td>30</td>\n",
       "      <td>7</td>\n",
       "      <td>5</td>\n",
       "      <td>18</td>\n",
       "      <td>51</td>\n",
       "      <td>85</td>\n",
       "      <td>-</td>\n",
       "      <td>-</td>\n",
       "      <td>1951~52</td>\n",
       "      <td>16</td>\n",
       "    </tr>\n",
       "    <tr>\n",
       "      <th>59</th>\n",
       "      <td>Team 60</td>\n",
       "      <td>1</td>\n",
       "      <td>14</td>\n",
       "      <td>30</td>\n",
       "      <td>5</td>\n",
       "      <td>4</td>\n",
       "      <td>21</td>\n",
       "      <td>34</td>\n",
       "      <td>65</td>\n",
       "      <td>-</td>\n",
       "      <td>-</td>\n",
       "      <td>1955-56</td>\n",
       "      <td>15</td>\n",
       "    </tr>\n",
       "    <tr>\n",
       "      <th>60</th>\n",
       "      <td>Team 61</td>\n",
       "      <td>1</td>\n",
       "      <td>-</td>\n",
       "      <td>-</td>\n",
       "      <td>-</td>\n",
       "      <td>-</td>\n",
       "      <td>-</td>\n",
       "      <td>-</td>\n",
       "      <td>-</td>\n",
       "      <td>-</td>\n",
       "      <td>-</td>\n",
       "      <td>2017~18</td>\n",
       "      <td>9</td>\n",
       "    </tr>\n",
       "  </tbody>\n",
       "</table>\n",
       "</div>"
      ],
      "text/plain": [
       "       Team  Tournament Score PlayedGames WonGames DrawnGames LostGames  \\\n",
       "56  Team 57           1    34          38        8         10        20   \n",
       "57  Team 58           1    22          30        7          8        15   \n",
       "58  Team 59           1    19          30        7          5        18   \n",
       "59  Team 60           1    14          30        5          4        21   \n",
       "60  Team 61           1     -           -        -          -         -   \n",
       "\n",
       "   BasketScored BasketGiven TournamentChampion Runner-up TeamLaunch  \\\n",
       "56           38          66                  -         -    2009-10   \n",
       "57           37          57                  -         -    1956-57   \n",
       "58           51          85                  -         -    1951~52   \n",
       "59           34          65                  -         -    1955-56   \n",
       "60            -           -                  -         -    2017~18   \n",
       "\n",
       "    HighestPositionHeld  \n",
       "56                   20  \n",
       "57                   16  \n",
       "58                   16  \n",
       "59                   15  \n",
       "60                    9  "
      ]
     },
     "execution_count": 24,
     "metadata": {},
     "output_type": "execute_result"
    }
   ],
   "source": [
    "df1.tail() # Display last 5 rows"
   ]
  },
  {
   "cell_type": "markdown",
   "id": "ca4f0c91",
   "metadata": {},
   "source": [
    "It is clear from the above table that Team 61 Row, TournamentChampion and Runner-up coulmns have '-' that needs to be replaced. We can assume that the '-' indicates that data is not available at these locations and '-' should be replaced with 0. It would not be prudent to drop the rows and columns containing '-' as they have some valid data points available."
   ]
  },
  {
   "cell_type": "code",
   "execution_count": 25,
   "id": "c6f5e276",
   "metadata": {},
   "outputs": [
    {
     "data": {
      "text/html": [
       "<div>\n",
       "<style scoped>\n",
       "    .dataframe tbody tr th:only-of-type {\n",
       "        vertical-align: middle;\n",
       "    }\n",
       "\n",
       "    .dataframe tbody tr th {\n",
       "        vertical-align: top;\n",
       "    }\n",
       "\n",
       "    .dataframe thead th {\n",
       "        text-align: right;\n",
       "    }\n",
       "</style>\n",
       "<table border=\"1\" class=\"dataframe\">\n",
       "  <thead>\n",
       "    <tr style=\"text-align: right;\">\n",
       "      <th></th>\n",
       "      <th>Team</th>\n",
       "      <th>Tournament</th>\n",
       "      <th>Score</th>\n",
       "      <th>PlayedGames</th>\n",
       "      <th>WonGames</th>\n",
       "      <th>DrawnGames</th>\n",
       "      <th>LostGames</th>\n",
       "      <th>BasketScored</th>\n",
       "      <th>BasketGiven</th>\n",
       "      <th>TournamentChampion</th>\n",
       "      <th>Runner-up</th>\n",
       "      <th>TeamLaunch</th>\n",
       "      <th>HighestPositionHeld</th>\n",
       "    </tr>\n",
       "  </thead>\n",
       "  <tbody>\n",
       "    <tr>\n",
       "      <th>56</th>\n",
       "      <td>Team 57</td>\n",
       "      <td>1</td>\n",
       "      <td>34</td>\n",
       "      <td>38</td>\n",
       "      <td>8</td>\n",
       "      <td>10</td>\n",
       "      <td>20</td>\n",
       "      <td>38</td>\n",
       "      <td>66</td>\n",
       "      <td>0</td>\n",
       "      <td>0</td>\n",
       "      <td>2009-10</td>\n",
       "      <td>20</td>\n",
       "    </tr>\n",
       "    <tr>\n",
       "      <th>57</th>\n",
       "      <td>Team 58</td>\n",
       "      <td>1</td>\n",
       "      <td>22</td>\n",
       "      <td>30</td>\n",
       "      <td>7</td>\n",
       "      <td>8</td>\n",
       "      <td>15</td>\n",
       "      <td>37</td>\n",
       "      <td>57</td>\n",
       "      <td>0</td>\n",
       "      <td>0</td>\n",
       "      <td>1956-57</td>\n",
       "      <td>16</td>\n",
       "    </tr>\n",
       "    <tr>\n",
       "      <th>58</th>\n",
       "      <td>Team 59</td>\n",
       "      <td>1</td>\n",
       "      <td>19</td>\n",
       "      <td>30</td>\n",
       "      <td>7</td>\n",
       "      <td>5</td>\n",
       "      <td>18</td>\n",
       "      <td>51</td>\n",
       "      <td>85</td>\n",
       "      <td>0</td>\n",
       "      <td>0</td>\n",
       "      <td>1951~52</td>\n",
       "      <td>16</td>\n",
       "    </tr>\n",
       "    <tr>\n",
       "      <th>59</th>\n",
       "      <td>Team 60</td>\n",
       "      <td>1</td>\n",
       "      <td>14</td>\n",
       "      <td>30</td>\n",
       "      <td>5</td>\n",
       "      <td>4</td>\n",
       "      <td>21</td>\n",
       "      <td>34</td>\n",
       "      <td>65</td>\n",
       "      <td>0</td>\n",
       "      <td>0</td>\n",
       "      <td>1955-56</td>\n",
       "      <td>15</td>\n",
       "    </tr>\n",
       "    <tr>\n",
       "      <th>60</th>\n",
       "      <td>Team 61</td>\n",
       "      <td>1</td>\n",
       "      <td>0</td>\n",
       "      <td>0</td>\n",
       "      <td>0</td>\n",
       "      <td>0</td>\n",
       "      <td>0</td>\n",
       "      <td>0</td>\n",
       "      <td>0</td>\n",
       "      <td>0</td>\n",
       "      <td>0</td>\n",
       "      <td>2017~18</td>\n",
       "      <td>9</td>\n",
       "    </tr>\n",
       "  </tbody>\n",
       "</table>\n",
       "</div>"
      ],
      "text/plain": [
       "       Team  Tournament Score PlayedGames WonGames DrawnGames LostGames  \\\n",
       "56  Team 57           1    34          38        8         10        20   \n",
       "57  Team 58           1    22          30        7          8        15   \n",
       "58  Team 59           1    19          30        7          5        18   \n",
       "59  Team 60           1    14          30        5          4        21   \n",
       "60  Team 61           1     0           0        0          0         0   \n",
       "\n",
       "   BasketScored BasketGiven TournamentChampion Runner-up TeamLaunch  \\\n",
       "56           38          66                  0         0    2009-10   \n",
       "57           37          57                  0         0    1956-57   \n",
       "58           51          85                  0         0    1951~52   \n",
       "59           34          65                  0         0    1955-56   \n",
       "60            0           0                  0         0    2017~18   \n",
       "\n",
       "    HighestPositionHeld  \n",
       "56                   20  \n",
       "57                   16  \n",
       "58                   16  \n",
       "59                   15  \n",
       "60                    9  "
      ]
     },
     "execution_count": 25,
     "metadata": {},
     "output_type": "execute_result"
    }
   ],
   "source": [
    "df1=df1.replace('-',0) #Replace '-' with 0\n",
    "df1.tail()"
   ]
  },
  {
   "cell_type": "markdown",
   "id": "068ff3c9",
   "metadata": {},
   "source": [
    "The TeamLaunch column contains 'Year the team was launched on professional basketball'. This implies that there can only be one year on which a team was launched. The team cannot be launched over a period of 2 or more years. Hence, to rectify this column we can ignore the second year that appears and consider only the first 4 characters are the year of launch of the team."
   ]
  },
  {
   "cell_type": "code",
   "execution_count": 26,
   "id": "27859b68",
   "metadata": {},
   "outputs": [
    {
     "data": {
      "text/plain": [
       "0     1929\n",
       "1     1929\n",
       "2     1929\n",
       "3     1931\n",
       "4     1929\n",
       "      ... \n",
       "56    2009\n",
       "57    1956\n",
       "58    1951\n",
       "59    1955\n",
       "60    2017\n",
       "Name: TeamLaunch, Length: 61, dtype: object"
      ]
     },
     "execution_count": 26,
     "metadata": {},
     "output_type": "execute_result"
    }
   ],
   "source": [
    "df1['TeamLaunch'] = df1['TeamLaunch'].str[:4] #Extract first 4 characters from TeamLaunch column as the year\n",
    "df1['TeamLaunch']"
   ]
  },
  {
   "cell_type": "markdown",
   "id": "3addcf45",
   "metadata": {},
   "source": [
    "### Prepare Final Dataset for Analysis"
   ]
  },
  {
   "cell_type": "code",
   "execution_count": 27,
   "id": "26344a02",
   "metadata": {},
   "outputs": [
    {
     "name": "stdout",
     "output_type": "stream",
     "text": [
      "<class 'pandas.core.frame.DataFrame'>\n",
      "RangeIndex: 61 entries, 0 to 60\n",
      "Data columns (total 13 columns):\n",
      " #   Column               Non-Null Count  Dtype \n",
      "---  ------               --------------  ----- \n",
      " 0   Team                 61 non-null     object\n",
      " 1   Tournament           61 non-null     int64 \n",
      " 2   Score                61 non-null     int64 \n",
      " 3   PlayedGames          61 non-null     int64 \n",
      " 4   WonGames             61 non-null     int64 \n",
      " 5   DrawnGames           61 non-null     int64 \n",
      " 6   LostGames            61 non-null     int64 \n",
      " 7   BasketScored         61 non-null     int64 \n",
      " 8   BasketGiven          61 non-null     int64 \n",
      " 9   TournamentChampion   61 non-null     int64 \n",
      " 10  Runner-up            61 non-null     int64 \n",
      " 11  TeamLaunch           61 non-null     int64 \n",
      " 12  HighestPositionHeld  61 non-null     int64 \n",
      "dtypes: int64(12), object(1)\n",
      "memory usage: 6.3+ KB\n"
     ]
    }
   ],
   "source": [
    "basketball = df1.astype(\"int64\", errors='ignore') #Convert datatype to numerical for EDA\n",
    "basketball.info() #Check info of cleaned data"
   ]
  },
  {
   "cell_type": "markdown",
   "id": "bc4a419c",
   "metadata": {},
   "source": [
    "This step has converted the datatype of all numerical columns to integers, since the numeric columns have integer values."
   ]
  },
  {
   "cell_type": "code",
   "execution_count": 28,
   "id": "f7cfdf3e",
   "metadata": {},
   "outputs": [
    {
     "data": {
      "text/html": [
       "<div>\n",
       "<style scoped>\n",
       "    .dataframe tbody tr th:only-of-type {\n",
       "        vertical-align: middle;\n",
       "    }\n",
       "\n",
       "    .dataframe tbody tr th {\n",
       "        vertical-align: top;\n",
       "    }\n",
       "\n",
       "    .dataframe thead th {\n",
       "        text-align: right;\n",
       "    }\n",
       "</style>\n",
       "<table border=\"1\" class=\"dataframe\">\n",
       "  <thead>\n",
       "    <tr style=\"text-align: right;\">\n",
       "      <th></th>\n",
       "      <th>Tournament</th>\n",
       "      <th>Score</th>\n",
       "      <th>PlayedGames</th>\n",
       "      <th>WonGames</th>\n",
       "      <th>DrawnGames</th>\n",
       "      <th>LostGames</th>\n",
       "      <th>BasketScored</th>\n",
       "      <th>BasketGiven</th>\n",
       "      <th>TournamentChampion</th>\n",
       "      <th>Runner-up</th>\n",
       "      <th>TeamLaunch</th>\n",
       "      <th>HighestPositionHeld</th>\n",
       "    </tr>\n",
       "  </thead>\n",
       "  <tbody>\n",
       "    <tr>\n",
       "      <th>count</th>\n",
       "      <td>61.000000</td>\n",
       "      <td>61.000000</td>\n",
       "      <td>61.000000</td>\n",
       "      <td>61.000000</td>\n",
       "      <td>61.000000</td>\n",
       "      <td>61.000000</td>\n",
       "      <td>61.000000</td>\n",
       "      <td>61.000000</td>\n",
       "      <td>61.000000</td>\n",
       "      <td>61.000000</td>\n",
       "      <td>61.000000</td>\n",
       "      <td>61.000000</td>\n",
       "    </tr>\n",
       "    <tr>\n",
       "      <th>mean</th>\n",
       "      <td>24.000000</td>\n",
       "      <td>901.426230</td>\n",
       "      <td>796.819672</td>\n",
       "      <td>303.967213</td>\n",
       "      <td>188.934426</td>\n",
       "      <td>303.754098</td>\n",
       "      <td>1140.344262</td>\n",
       "      <td>1140.229508</td>\n",
       "      <td>1.426230</td>\n",
       "      <td>1.409836</td>\n",
       "      <td>1958.918033</td>\n",
       "      <td>7.081967</td>\n",
       "    </tr>\n",
       "    <tr>\n",
       "      <th>std</th>\n",
       "      <td>26.827225</td>\n",
       "      <td>1134.899121</td>\n",
       "      <td>876.282765</td>\n",
       "      <td>406.991030</td>\n",
       "      <td>201.799477</td>\n",
       "      <td>294.708594</td>\n",
       "      <td>1506.740211</td>\n",
       "      <td>1163.710766</td>\n",
       "      <td>5.472535</td>\n",
       "      <td>4.540107</td>\n",
       "      <td>27.484114</td>\n",
       "      <td>5.276663</td>\n",
       "    </tr>\n",
       "    <tr>\n",
       "      <th>min</th>\n",
       "      <td>1.000000</td>\n",
       "      <td>0.000000</td>\n",
       "      <td>0.000000</td>\n",
       "      <td>0.000000</td>\n",
       "      <td>0.000000</td>\n",
       "      <td>0.000000</td>\n",
       "      <td>0.000000</td>\n",
       "      <td>0.000000</td>\n",
       "      <td>0.000000</td>\n",
       "      <td>0.000000</td>\n",
       "      <td>1929.000000</td>\n",
       "      <td>1.000000</td>\n",
       "    </tr>\n",
       "    <tr>\n",
       "      <th>25%</th>\n",
       "      <td>4.000000</td>\n",
       "      <td>96.000000</td>\n",
       "      <td>114.000000</td>\n",
       "      <td>34.000000</td>\n",
       "      <td>24.000000</td>\n",
       "      <td>62.000000</td>\n",
       "      <td>153.000000</td>\n",
       "      <td>221.000000</td>\n",
       "      <td>0.000000</td>\n",
       "      <td>0.000000</td>\n",
       "      <td>1935.000000</td>\n",
       "      <td>3.000000</td>\n",
       "    </tr>\n",
       "    <tr>\n",
       "      <th>50%</th>\n",
       "      <td>12.000000</td>\n",
       "      <td>375.000000</td>\n",
       "      <td>423.000000</td>\n",
       "      <td>123.000000</td>\n",
       "      <td>95.000000</td>\n",
       "      <td>197.000000</td>\n",
       "      <td>430.000000</td>\n",
       "      <td>632.000000</td>\n",
       "      <td>0.000000</td>\n",
       "      <td>0.000000</td>\n",
       "      <td>1951.000000</td>\n",
       "      <td>6.000000</td>\n",
       "    </tr>\n",
       "    <tr>\n",
       "      <th>75%</th>\n",
       "      <td>38.000000</td>\n",
       "      <td>1351.000000</td>\n",
       "      <td>1318.000000</td>\n",
       "      <td>426.000000</td>\n",
       "      <td>330.000000</td>\n",
       "      <td>563.000000</td>\n",
       "      <td>1642.000000</td>\n",
       "      <td>1951.000000</td>\n",
       "      <td>0.000000</td>\n",
       "      <td>0.000000</td>\n",
       "      <td>1978.000000</td>\n",
       "      <td>10.000000</td>\n",
       "    </tr>\n",
       "    <tr>\n",
       "      <th>max</th>\n",
       "      <td>86.000000</td>\n",
       "      <td>4385.000000</td>\n",
       "      <td>2762.000000</td>\n",
       "      <td>1647.000000</td>\n",
       "      <td>633.000000</td>\n",
       "      <td>1070.000000</td>\n",
       "      <td>5947.000000</td>\n",
       "      <td>3889.000000</td>\n",
       "      <td>33.000000</td>\n",
       "      <td>25.000000</td>\n",
       "      <td>2017.000000</td>\n",
       "      <td>20.000000</td>\n",
       "    </tr>\n",
       "  </tbody>\n",
       "</table>\n",
       "</div>"
      ],
      "text/plain": [
       "       Tournament        Score  PlayedGames     WonGames  DrawnGames  \\\n",
       "count   61.000000    61.000000    61.000000    61.000000   61.000000   \n",
       "mean    24.000000   901.426230   796.819672   303.967213  188.934426   \n",
       "std     26.827225  1134.899121   876.282765   406.991030  201.799477   \n",
       "min      1.000000     0.000000     0.000000     0.000000    0.000000   \n",
       "25%      4.000000    96.000000   114.000000    34.000000   24.000000   \n",
       "50%     12.000000   375.000000   423.000000   123.000000   95.000000   \n",
       "75%     38.000000  1351.000000  1318.000000   426.000000  330.000000   \n",
       "max     86.000000  4385.000000  2762.000000  1647.000000  633.000000   \n",
       "\n",
       "         LostGames  BasketScored  BasketGiven  TournamentChampion  Runner-up  \\\n",
       "count    61.000000     61.000000    61.000000           61.000000  61.000000   \n",
       "mean    303.754098   1140.344262  1140.229508            1.426230   1.409836   \n",
       "std     294.708594   1506.740211  1163.710766            5.472535   4.540107   \n",
       "min       0.000000      0.000000     0.000000            0.000000   0.000000   \n",
       "25%      62.000000    153.000000   221.000000            0.000000   0.000000   \n",
       "50%     197.000000    430.000000   632.000000            0.000000   0.000000   \n",
       "75%     563.000000   1642.000000  1951.000000            0.000000   0.000000   \n",
       "max    1070.000000   5947.000000  3889.000000           33.000000  25.000000   \n",
       "\n",
       "        TeamLaunch  HighestPositionHeld  \n",
       "count    61.000000            61.000000  \n",
       "mean   1958.918033             7.081967  \n",
       "std      27.484114             5.276663  \n",
       "min    1929.000000             1.000000  \n",
       "25%    1935.000000             3.000000  \n",
       "50%    1951.000000             6.000000  \n",
       "75%    1978.000000            10.000000  \n",
       "max    2017.000000            20.000000  "
      ]
     },
     "execution_count": 28,
     "metadata": {},
     "output_type": "execute_result"
    }
   ],
   "source": [
    "basketball.describe() #Check statistics after correcting the datatypes"
   ]
  },
  {
   "cell_type": "code",
   "execution_count": 29,
   "id": "c27b8d59",
   "metadata": {},
   "outputs": [
    {
     "data": {
      "text/html": [
       "<div>\n",
       "<style scoped>\n",
       "    .dataframe tbody tr th:only-of-type {\n",
       "        vertical-align: middle;\n",
       "    }\n",
       "\n",
       "    .dataframe tbody tr th {\n",
       "        vertical-align: top;\n",
       "    }\n",
       "\n",
       "    .dataframe thead th {\n",
       "        text-align: right;\n",
       "    }\n",
       "</style>\n",
       "<table border=\"1\" class=\"dataframe\">\n",
       "  <thead>\n",
       "    <tr style=\"text-align: right;\">\n",
       "      <th></th>\n",
       "      <th>Team</th>\n",
       "      <th>Tournament</th>\n",
       "      <th>Score</th>\n",
       "      <th>PlayedGames</th>\n",
       "      <th>WonGames</th>\n",
       "      <th>DrawnGames</th>\n",
       "      <th>LostGames</th>\n",
       "      <th>BasketScored</th>\n",
       "      <th>BasketGiven</th>\n",
       "      <th>TournamentChampion</th>\n",
       "      <th>Runner-up</th>\n",
       "      <th>TeamLaunch</th>\n",
       "      <th>HighestPositionHeld</th>\n",
       "      <th>IfWinner</th>\n",
       "      <th>BasketDiff</th>\n",
       "      <th>NetScorer</th>\n",
       "      <th>Win Percent</th>\n",
       "      <th>Loss Percent</th>\n",
       "      <th>Drawn Percent</th>\n",
       "      <th>NetWinner</th>\n",
       "    </tr>\n",
       "  </thead>\n",
       "  <tbody>\n",
       "    <tr>\n",
       "      <th>0</th>\n",
       "      <td>Team 1</td>\n",
       "      <td>86</td>\n",
       "      <td>4385</td>\n",
       "      <td>2762</td>\n",
       "      <td>1647</td>\n",
       "      <td>552</td>\n",
       "      <td>563</td>\n",
       "      <td>5947</td>\n",
       "      <td>3140</td>\n",
       "      <td>33</td>\n",
       "      <td>23</td>\n",
       "      <td>1929</td>\n",
       "      <td>1</td>\n",
       "      <td>True</td>\n",
       "      <td>2807</td>\n",
       "      <td>True</td>\n",
       "      <td>59.63</td>\n",
       "      <td>20.38</td>\n",
       "      <td>19.99</td>\n",
       "      <td>True</td>\n",
       "    </tr>\n",
       "    <tr>\n",
       "      <th>1</th>\n",
       "      <td>Team 2</td>\n",
       "      <td>86</td>\n",
       "      <td>4262</td>\n",
       "      <td>2762</td>\n",
       "      <td>1581</td>\n",
       "      <td>573</td>\n",
       "      <td>608</td>\n",
       "      <td>5900</td>\n",
       "      <td>3114</td>\n",
       "      <td>25</td>\n",
       "      <td>25</td>\n",
       "      <td>1929</td>\n",
       "      <td>1</td>\n",
       "      <td>True</td>\n",
       "      <td>2786</td>\n",
       "      <td>True</td>\n",
       "      <td>57.24</td>\n",
       "      <td>22.01</td>\n",
       "      <td>20.75</td>\n",
       "      <td>True</td>\n",
       "    </tr>\n",
       "    <tr>\n",
       "      <th>2</th>\n",
       "      <td>Team 3</td>\n",
       "      <td>80</td>\n",
       "      <td>3442</td>\n",
       "      <td>2614</td>\n",
       "      <td>1241</td>\n",
       "      <td>598</td>\n",
       "      <td>775</td>\n",
       "      <td>4534</td>\n",
       "      <td>3309</td>\n",
       "      <td>10</td>\n",
       "      <td>8</td>\n",
       "      <td>1929</td>\n",
       "      <td>1</td>\n",
       "      <td>True</td>\n",
       "      <td>1225</td>\n",
       "      <td>True</td>\n",
       "      <td>47.48</td>\n",
       "      <td>29.65</td>\n",
       "      <td>22.88</td>\n",
       "      <td>True</td>\n",
       "    </tr>\n",
       "    <tr>\n",
       "      <th>3</th>\n",
       "      <td>Team 4</td>\n",
       "      <td>82</td>\n",
       "      <td>3386</td>\n",
       "      <td>2664</td>\n",
       "      <td>1187</td>\n",
       "      <td>616</td>\n",
       "      <td>861</td>\n",
       "      <td>4398</td>\n",
       "      <td>3469</td>\n",
       "      <td>6</td>\n",
       "      <td>6</td>\n",
       "      <td>1931</td>\n",
       "      <td>1</td>\n",
       "      <td>True</td>\n",
       "      <td>929</td>\n",
       "      <td>True</td>\n",
       "      <td>44.56</td>\n",
       "      <td>32.32</td>\n",
       "      <td>23.12</td>\n",
       "      <td>True</td>\n",
       "    </tr>\n",
       "    <tr>\n",
       "      <th>4</th>\n",
       "      <td>Team 5</td>\n",
       "      <td>86</td>\n",
       "      <td>3368</td>\n",
       "      <td>2762</td>\n",
       "      <td>1209</td>\n",
       "      <td>633</td>\n",
       "      <td>920</td>\n",
       "      <td>4631</td>\n",
       "      <td>3700</td>\n",
       "      <td>8</td>\n",
       "      <td>7</td>\n",
       "      <td>1929</td>\n",
       "      <td>1</td>\n",
       "      <td>True</td>\n",
       "      <td>931</td>\n",
       "      <td>True</td>\n",
       "      <td>43.77</td>\n",
       "      <td>33.31</td>\n",
       "      <td>22.92</td>\n",
       "      <td>True</td>\n",
       "    </tr>\n",
       "  </tbody>\n",
       "</table>\n",
       "</div>"
      ],
      "text/plain": [
       "     Team  Tournament  Score  PlayedGames  WonGames  DrawnGames  LostGames  \\\n",
       "0  Team 1          86   4385         2762      1647         552        563   \n",
       "1  Team 2          86   4262         2762      1581         573        608   \n",
       "2  Team 3          80   3442         2614      1241         598        775   \n",
       "3  Team 4          82   3386         2664      1187         616        861   \n",
       "4  Team 5          86   3368         2762      1209         633        920   \n",
       "\n",
       "   BasketScored  BasketGiven  TournamentChampion  Runner-up  TeamLaunch  \\\n",
       "0          5947         3140                  33         23        1929   \n",
       "1          5900         3114                  25         25        1929   \n",
       "2          4534         3309                  10          8        1929   \n",
       "3          4398         3469                   6          6        1931   \n",
       "4          4631         3700                   8          7        1929   \n",
       "\n",
       "   HighestPositionHeld  IfWinner  BasketDiff  NetScorer  Win Percent  \\\n",
       "0                    1      True        2807       True        59.63   \n",
       "1                    1      True        2786       True        57.24   \n",
       "2                    1      True        1225       True        47.48   \n",
       "3                    1      True         929       True        44.56   \n",
       "4                    1      True         931       True        43.77   \n",
       "\n",
       "   Loss Percent  Drawn Percent  NetWinner  \n",
       "0         20.38          19.99       True  \n",
       "1         22.01          20.75       True  \n",
       "2         29.65          22.88       True  \n",
       "3         32.32          23.12       True  \n",
       "4         33.31          22.92       True  "
      ]
     },
     "execution_count": 29,
     "metadata": {},
     "output_type": "execute_result"
    }
   ],
   "source": [
    "#Let's create few more columns for analysis purpose as the table has only one categorical variable\n",
    "basketball['IfWinner']=basketball['TournamentChampion']>0 #Has the team ever been a tournament champion?\n",
    "basketball['BasketDiff']=basketball['BasketScored']-basketball['BasketGiven'] #Basket Difference\n",
    "basketball['NetScorer']=basketball['BasketDiff']>0 #Is the basket difference of a team positiive? Scored more than conceded?\n",
    "basketball['Win Percent']=round((basketball['WonGames']/basketball['PlayedGames'])*100,2) #Winning percentage of teams\n",
    "basketball['Loss Percent']=round((basketball['LostGames']/basketball['PlayedGames'])*100,2) #Loss percentage of teams\n",
    "basketball['Drawn Percent']=round((basketball['DrawnGames']/basketball['PlayedGames'])*100,2) #Draw percentage of teams\n",
    "basketball['NetWinner']=(basketball['Win Percent']>basketball['Loss Percent']) & (basketball['Win Percent']> basketball['Drawn Percent'])#Whether the team is a net winner?\n",
    "basketball.head()"
   ]
  },
  {
   "cell_type": "markdown",
   "id": "62d760aa",
   "metadata": {},
   "source": [
    "## 2.) Perform detailed statistical analysis and EDA using univariate, bi-variate and multivariate EDA techniques to get data driven insights on recommending which teams they can approach which will be a deal win for them. Also as a data and statistics expert you have to develop a detailed performance report using this data"
   ]
  },
  {
   "cell_type": "code",
   "execution_count": 30,
   "id": "adbee5b9",
   "metadata": {},
   "outputs": [
    {
     "data": {
      "image/png": "[encoded data removed]",
      "text/plain": [
       "<Figure size 1440x2160 with 16 Axes>"
      ]
     },
     "metadata": {
      "needs_background": "light"
     },
     "output_type": "display_data"
    }
   ],
   "source": [
    "basketball.hist(figsize=(20,30)); #Plot histogram of all numerical variables"
   ]
  },
  {
   "cell_type": "markdown",
   "id": "0d209b32",
   "metadata": {},
   "source": [
    "**Observations**\n",
    "The data looks to be skewed to the right as most of the data is concentrated towards the left end of the histograms."
   ]
  },
  {
   "cell_type": "code",
   "execution_count": 31,
   "id": "4f11df34",
   "metadata": {},
   "outputs": [
    {
     "data": {
      "image/png": "[encoded data removed]",
      "text/plain": [
       "<Figure size 1080x360 with 2 Axes>"
      ]
     },
     "metadata": {
      "needs_background": "light"
     },
     "output_type": "display_data"
    }
   ],
   "source": [
    "corr_mat=basketball.corr() #Correlation matrix\n",
    "fig, ax = plt.subplots(figsize=(15,5)) #Set Figure Size\n",
    "sns.heatmap(corr_mat,annot=True); #Plot heatmap of correlation matrix"
   ]
  },
  {
   "cell_type": "code",
   "execution_count": 32,
   "id": "25680450",
   "metadata": {},
   "outputs": [
    {
     "data": {
      "image/png": "[encoded data removed]",
      "text/plain": [
       "<Figure size 1080x360 with 1 Axes>"
      ]
     },
     "metadata": {
      "needs_background": "light"
     },
     "output_type": "display_data"
    }
   ],
   "source": [
    "#Which team has won most tournaments?\n",
    "temp = basketball.sort_values('TournamentChampion',ascending=False).head(10)\n",
    "fig, ax = plt.subplots(figsize=(15,5)) #Set Figure Size\n",
    "sns.barplot(x=\"Team\", y = 'TournamentChampion',data=temp,hue='NetScorer');"
   ]
  },
  {
   "cell_type": "markdown",
   "id": "e53f6bac",
   "metadata": {},
   "source": [
    "Team 1 has won the most tournaments.\n",
    "Teams 8,10 and 11 have won the tournaments with a negative basket difference. They have conceded more baskets than scored."
   ]
  },
  {
   "cell_type": "code",
   "execution_count": 33,
   "id": "7876404d",
   "metadata": {},
   "outputs": [
    {
     "data": {
      "image/png": "[encoded data removed]",
      "text/plain": [
       "<Figure size 1080x360 with 1 Axes>"
      ]
     },
     "metadata": {
      "needs_background": "light"
     },
     "output_type": "display_data"
    }
   ],
   "source": [
    "#Which teams have the highest scores?\n",
    "temp = basketball.sort_values('Score',ascending=False).head(10)\n",
    "fig, ax = plt.subplots(figsize=(15,5)) #Set Figure Size\n",
    "sns.barplot(x=\"Team\", y = 'Score',data=temp,hue='IfWinner');"
   ]
  },
  {
   "cell_type": "markdown",
   "id": "7398b17d",
   "metadata": {},
   "source": [
    "Teams 7 and 9 are in the Top 10 scoring teams and yet haven't won the championship even once."
   ]
  },
  {
   "cell_type": "code",
   "execution_count": 34,
   "id": "729dda86",
   "metadata": {},
   "outputs": [
    {
     "data": {
      "text/html": [
       "<div>\n",
       "<style scoped>\n",
       "    .dataframe tbody tr th:only-of-type {\n",
       "        vertical-align: middle;\n",
       "    }\n",
       "\n",
       "    .dataframe tbody tr th {\n",
       "        vertical-align: top;\n",
       "    }\n",
       "\n",
       "    .dataframe thead th {\n",
       "        text-align: right;\n",
       "    }\n",
       "</style>\n",
       "<table border=\"1\" class=\"dataframe\">\n",
       "  <thead>\n",
       "    <tr style=\"text-align: right;\">\n",
       "      <th></th>\n",
       "      <th>Team</th>\n",
       "      <th>Tournament</th>\n",
       "      <th>Score</th>\n",
       "      <th>PlayedGames</th>\n",
       "      <th>WonGames</th>\n",
       "      <th>DrawnGames</th>\n",
       "      <th>LostGames</th>\n",
       "      <th>BasketScored</th>\n",
       "      <th>BasketGiven</th>\n",
       "      <th>TournamentChampion</th>\n",
       "      <th>Runner-up</th>\n",
       "      <th>TeamLaunch</th>\n",
       "      <th>HighestPositionHeld</th>\n",
       "      <th>IfWinner</th>\n",
       "      <th>BasketDiff</th>\n",
       "      <th>NetScorer</th>\n",
       "      <th>Win Percent</th>\n",
       "      <th>Loss Percent</th>\n",
       "      <th>Drawn Percent</th>\n",
       "      <th>NetWinner</th>\n",
       "    </tr>\n",
       "  </thead>\n",
       "  <tbody>\n",
       "    <tr>\n",
       "      <th>0</th>\n",
       "      <td>Team 1</td>\n",
       "      <td>86</td>\n",
       "      <td>4385</td>\n",
       "      <td>2762</td>\n",
       "      <td>1647</td>\n",
       "      <td>552</td>\n",
       "      <td>563</td>\n",
       "      <td>5947</td>\n",
       "      <td>3140</td>\n",
       "      <td>33</td>\n",
       "      <td>23</td>\n",
       "      <td>1929</td>\n",
       "      <td>1</td>\n",
       "      <td>True</td>\n",
       "      <td>2807</td>\n",
       "      <td>True</td>\n",
       "      <td>59.63</td>\n",
       "      <td>20.38</td>\n",
       "      <td>19.99</td>\n",
       "      <td>True</td>\n",
       "    </tr>\n",
       "  </tbody>\n",
       "</table>\n",
       "</div>"
      ],
      "text/plain": [
       "     Team  Tournament  Score  PlayedGames  WonGames  DrawnGames  LostGames  \\\n",
       "0  Team 1          86   4385         2762      1647         552        563   \n",
       "\n",
       "   BasketScored  BasketGiven  TournamentChampion  Runner-up  TeamLaunch  \\\n",
       "0          5947         3140                  33         23        1929   \n",
       "\n",
       "   HighestPositionHeld  IfWinner  BasketDiff  NetScorer  Win Percent  \\\n",
       "0                    1      True        2807       True        59.63   \n",
       "\n",
       "   Loss Percent  Drawn Percent  NetWinner  \n",
       "0         20.38          19.99       True  "
      ]
     },
     "execution_count": 34,
     "metadata": {},
     "output_type": "execute_result"
    }
   ],
   "source": [
    "#Which is the oldest team?\n",
    "basketball.sort_values('TeamLaunch',ascending=True).head(1)"
   ]
  },
  {
   "cell_type": "markdown",
   "id": "78477f84",
   "metadata": {},
   "source": [
    "Team 1 is the oldest team!"
   ]
  },
  {
   "cell_type": "code",
   "execution_count": 35,
   "id": "a7ce1f51",
   "metadata": {},
   "outputs": [
    {
     "data": {
      "text/html": [
       "<div>\n",
       "<style scoped>\n",
       "    .dataframe tbody tr th:only-of-type {\n",
       "        vertical-align: middle;\n",
       "    }\n",
       "\n",
       "    .dataframe tbody tr th {\n",
       "        vertical-align: top;\n",
       "    }\n",
       "\n",
       "    .dataframe thead th {\n",
       "        text-align: right;\n",
       "    }\n",
       "</style>\n",
       "<table border=\"1\" class=\"dataframe\">\n",
       "  <thead>\n",
       "    <tr style=\"text-align: right;\">\n",
       "      <th></th>\n",
       "      <th>Team</th>\n",
       "      <th>Tournament</th>\n",
       "      <th>Score</th>\n",
       "      <th>PlayedGames</th>\n",
       "      <th>WonGames</th>\n",
       "      <th>DrawnGames</th>\n",
       "      <th>LostGames</th>\n",
       "      <th>BasketScored</th>\n",
       "      <th>BasketGiven</th>\n",
       "      <th>TournamentChampion</th>\n",
       "      <th>Runner-up</th>\n",
       "      <th>TeamLaunch</th>\n",
       "      <th>HighestPositionHeld</th>\n",
       "      <th>IfWinner</th>\n",
       "      <th>BasketDiff</th>\n",
       "      <th>NetScorer</th>\n",
       "      <th>Win Percent</th>\n",
       "      <th>Loss Percent</th>\n",
       "      <th>Drawn Percent</th>\n",
       "      <th>NetWinner</th>\n",
       "    </tr>\n",
       "  </thead>\n",
       "  <tbody>\n",
       "    <tr>\n",
       "      <th>60</th>\n",
       "      <td>Team 61</td>\n",
       "      <td>1</td>\n",
       "      <td>0</td>\n",
       "      <td>0</td>\n",
       "      <td>0</td>\n",
       "      <td>0</td>\n",
       "      <td>0</td>\n",
       "      <td>0</td>\n",
       "      <td>0</td>\n",
       "      <td>0</td>\n",
       "      <td>0</td>\n",
       "      <td>2017</td>\n",
       "      <td>9</td>\n",
       "      <td>False</td>\n",
       "      <td>0</td>\n",
       "      <td>False</td>\n",
       "      <td>NaN</td>\n",
       "      <td>NaN</td>\n",
       "      <td>NaN</td>\n",
       "      <td>False</td>\n",
       "    </tr>\n",
       "  </tbody>\n",
       "</table>\n",
       "</div>"
      ],
      "text/plain": [
       "       Team  Tournament  Score  PlayedGames  WonGames  DrawnGames  LostGames  \\\n",
       "60  Team 61           1      0            0         0           0          0   \n",
       "\n",
       "    BasketScored  BasketGiven  TournamentChampion  Runner-up  TeamLaunch  \\\n",
       "60             0            0                   0          0        2017   \n",
       "\n",
       "    HighestPositionHeld  IfWinner  BasketDiff  NetScorer  Win Percent  \\\n",
       "60                    9     False           0      False          NaN   \n",
       "\n",
       "    Loss Percent  Drawn Percent  NetWinner  \n",
       "60           NaN            NaN      False  "
      ]
     },
     "execution_count": 35,
     "metadata": {},
     "output_type": "execute_result"
    }
   ],
   "source": [
    "#Youngest/Newest team\n",
    "basketball.sort_values('TeamLaunch',ascending=False).head(1)"
   ]
  },
  {
   "cell_type": "markdown",
   "id": "ef8e41fa",
   "metadata": {},
   "source": [
    "Team 61 is the youngest team!"
   ]
  },
  {
   "cell_type": "code",
   "execution_count": 36,
   "id": "e3354baf",
   "metadata": {},
   "outputs": [
    {
     "data": {
      "text/plain": [
       "<seaborn.axisgrid.FacetGrid at 0x7fc3e531d6d0>"
      ]
     },
     "execution_count": 36,
     "metadata": {},
     "output_type": "execute_result"
    },
    {
     "data": {
      "image/png": "[encoded data removed]",
      "text/plain": [
       "<Figure size 360x360 with 1 Axes>"
      ]
     },
     "metadata": {
      "needs_background": "light"
     },
     "output_type": "display_data"
    }
   ],
   "source": [
    "#Team Launch Year distribution\n",
    "sns.displot(x='TeamLaunch',data=basketball)"
   ]
  },
  {
   "cell_type": "code",
   "execution_count": 37,
   "id": "54476fce",
   "metadata": {},
   "outputs": [
    {
     "data": {
      "image/png": "[encoded data removed]",
      "text/plain": [
       "<Figure size 432x288 with 1 Axes>"
      ]
     },
     "metadata": {
      "needs_background": "light"
     },
     "output_type": "display_data"
    }
   ],
   "source": [
    "#Is there a relation between number of tournaments played and tournament championships?\n",
    "sns.scatterplot(data=basketball, x=\"Tournament\", y=\"TournamentChampion\");"
   ]
  },
  {
   "cell_type": "markdown",
   "id": "fc9068c4",
   "metadata": {},
   "source": [
    "Teams that have played more than ~60 tournaments have won multiple championships."
   ]
  },
  {
   "cell_type": "code",
   "execution_count": 38,
   "id": "05f859a9",
   "metadata": {},
   "outputs": [
    {
     "data": {
      "image/png": "[encoded data removed]",
      "text/plain": [
       "<Figure size 432x288 with 1 Axes>"
      ]
     },
     "metadata": {
      "needs_background": "light"
     },
     "output_type": "display_data"
    }
   ],
   "source": [
    "#Is there a relation between team launch year and tournament championships?\n",
    "sns.scatterplot(data=basketball, x=\"TeamLaunch\", y=\"TournamentChampion\");"
   ]
  },
  {
   "cell_type": "markdown",
   "id": "b768988c",
   "metadata": {},
   "source": [
    "Older teams (<1940) have won multiple championships. Newer teams haven't fared well with winning championships."
   ]
  },
  {
   "cell_type": "code",
   "execution_count": 39,
   "id": "cda9c9cd",
   "metadata": {},
   "outputs": [
    {
     "data": {
      "image/png": "[encoded data removed]",
      "text/plain": [
       "<Figure size 432x288 with 1 Axes>"
      ]
     },
     "metadata": {
      "needs_background": "light"
     },
     "output_type": "display_data"
    }
   ],
   "source": [
    "sns.scatterplot(data=basketball, x=\"TeamLaunch\", y=\"Loss Percent\",hue='IfWinner');"
   ]
  },
  {
   "cell_type": "markdown",
   "id": "0428c6c1",
   "metadata": {},
   "source": [
    "Winning teams have low loss percent.\n",
    "New teams have very high loss percent."
   ]
  },
  {
   "cell_type": "code",
   "execution_count": 40,
   "id": "faf0655f",
   "metadata": {},
   "outputs": [
    {
     "data": {
      "image/png": "[encoded data removed]",
      "text/plain": [
       "<Figure size 432x288 with 1 Axes>"
      ]
     },
     "metadata": {
      "needs_background": "light"
     },
     "output_type": "display_data"
    }
   ],
   "source": [
    "#Team with Highest Goals\n",
    "b = basketball.sort_values('BasketScored',ascending=False).head()\n",
    "sns.barplot(x=\"Team\", y = 'BasketScored',data=b); "
   ]
  },
  {
   "cell_type": "markdown",
   "id": "bb6c5f45",
   "metadata": {},
   "source": [
    "Team 1 has scored maximum baskets.\n",
    "Team 2 has also scored similar number of baskets as Team 1 but less than Team 1."
   ]
  },
  {
   "cell_type": "code",
   "execution_count": 41,
   "id": "059e11ea",
   "metadata": {},
   "outputs": [
    {
     "data": {
      "image/png": "[encoded data removed]",
      "text/plain": [
       "<Figure size 1080x360 with 2 Axes>"
      ]
     },
     "metadata": {
      "needs_background": "light"
     },
     "output_type": "display_data"
    }
   ],
   "source": [
    "#Recommendations - Which teams to approach for a winning deal\n",
    "c=basketball.sort_values('TournamentChampion',ascending=False).head(10) #Top 10 tournament champions\n",
    "corr_mat_c=c.corr() #Correlation matrix\n",
    "fig, ax = plt.subplots(figsize=(15,5)) #Set Figure Size\n",
    "sns.heatmap(corr_mat_c,annot=True); #Plot heatmap of correlation matrix"
   ]
  },
  {
   "cell_type": "markdown",
   "id": "88400666",
   "metadata": {},
   "source": [
    "Based on above heat map - BasketDiff, Win Percent, Loss Percent, Runner-up and Games Won are highly correlated with Tournament Championships.\n",
    "**NOTE** - Correlation does not indicate causation. These are not the only factors leading to championships. But they are good indicators as to which teams can succeed."
   ]
  },
  {
   "cell_type": "code",
   "execution_count": 42,
   "id": "420ed79c",
   "metadata": {},
   "outputs": [
    {
     "data": {
      "text/plain": [
       "BasketDiff     -333.00\n",
       "Win Percent      32.50\n",
       "Loss Percent     20.38\n",
       "Runner-up         0.00\n",
       "WonGames         52.00\n",
       "dtype: float64"
      ]
     },
     "execution_count": 42,
     "metadata": {},
     "output_type": "execute_result"
    }
   ],
   "source": [
    "#Minimum metrics to become Tournament Champion\n",
    "c[['BasketDiff','Win Percent','Loss Percent','Runner-up','WonGames']].min() "
   ]
  },
  {
   "cell_type": "code",
   "execution_count": 43,
   "id": "47db0c72",
   "metadata": {},
   "outputs": [
    {
     "data": {
      "text/html": [
       "<div>\n",
       "<style scoped>\n",
       "    .dataframe tbody tr th:only-of-type {\n",
       "        vertical-align: middle;\n",
       "    }\n",
       "\n",
       "    .dataframe tbody tr th {\n",
       "        vertical-align: top;\n",
       "    }\n",
       "\n",
       "    .dataframe thead th {\n",
       "        text-align: right;\n",
       "    }\n",
       "</style>\n",
       "<table border=\"1\" class=\"dataframe\">\n",
       "  <thead>\n",
       "    <tr style=\"text-align: right;\">\n",
       "      <th></th>\n",
       "      <th>Team</th>\n",
       "      <th>Tournament</th>\n",
       "      <th>Score</th>\n",
       "      <th>PlayedGames</th>\n",
       "      <th>WonGames</th>\n",
       "      <th>DrawnGames</th>\n",
       "      <th>LostGames</th>\n",
       "      <th>BasketScored</th>\n",
       "      <th>BasketGiven</th>\n",
       "      <th>TournamentChampion</th>\n",
       "      <th>Runner-up</th>\n",
       "      <th>TeamLaunch</th>\n",
       "      <th>HighestPositionHeld</th>\n",
       "      <th>IfWinner</th>\n",
       "      <th>BasketDiff</th>\n",
       "      <th>NetScorer</th>\n",
       "      <th>Win Percent</th>\n",
       "      <th>Loss Percent</th>\n",
       "      <th>Drawn Percent</th>\n",
       "      <th>NetWinner</th>\n",
       "    </tr>\n",
       "  </thead>\n",
       "  <tbody>\n",
       "    <tr>\n",
       "      <th>20</th>\n",
       "      <td>Team 21</td>\n",
       "      <td>17</td>\n",
       "      <td>970</td>\n",
       "      <td>646</td>\n",
       "      <td>266</td>\n",
       "      <td>172</td>\n",
       "      <td>208</td>\n",
       "      <td>892</td>\n",
       "      <td>789</td>\n",
       "      <td>0</td>\n",
       "      <td>1</td>\n",
       "      <td>1998</td>\n",
       "      <td>2</td>\n",
       "      <td>False</td>\n",
       "      <td>103</td>\n",
       "      <td>True</td>\n",
       "      <td>41.18</td>\n",
       "      <td>32.20</td>\n",
       "      <td>26.63</td>\n",
       "      <td>True</td>\n",
       "    </tr>\n",
       "    <tr>\n",
       "      <th>18</th>\n",
       "      <td>Team 19</td>\n",
       "      <td>27</td>\n",
       "      <td>1148</td>\n",
       "      <td>988</td>\n",
       "      <td>333</td>\n",
       "      <td>256</td>\n",
       "      <td>399</td>\n",
       "      <td>1182</td>\n",
       "      <td>1371</td>\n",
       "      <td>0</td>\n",
       "      <td>0</td>\n",
       "      <td>1960</td>\n",
       "      <td>3</td>\n",
       "      <td>False</td>\n",
       "      <td>-189</td>\n",
       "      <td>False</td>\n",
       "      <td>33.70</td>\n",
       "      <td>40.38</td>\n",
       "      <td>25.91</td>\n",
       "      <td>False</td>\n",
       "    </tr>\n",
       "    <tr>\n",
       "      <th>8</th>\n",
       "      <td>Team 9</td>\n",
       "      <td>58</td>\n",
       "      <td>2109</td>\n",
       "      <td>1986</td>\n",
       "      <td>698</td>\n",
       "      <td>522</td>\n",
       "      <td>766</td>\n",
       "      <td>2683</td>\n",
       "      <td>2847</td>\n",
       "      <td>0</td>\n",
       "      <td>1</td>\n",
       "      <td>1939</td>\n",
       "      <td>2</td>\n",
       "      <td>False</td>\n",
       "      <td>-164</td>\n",
       "      <td>False</td>\n",
       "      <td>35.15</td>\n",
       "      <td>38.57</td>\n",
       "      <td>26.28</td>\n",
       "      <td>False</td>\n",
       "    </tr>\n",
       "    <tr>\n",
       "      <th>17</th>\n",
       "      <td>Team 18</td>\n",
       "      <td>38</td>\n",
       "      <td>1174</td>\n",
       "      <td>1192</td>\n",
       "      <td>408</td>\n",
       "      <td>292</td>\n",
       "      <td>492</td>\n",
       "      <td>1642</td>\n",
       "      <td>1951</td>\n",
       "      <td>0</td>\n",
       "      <td>0</td>\n",
       "      <td>1933</td>\n",
       "      <td>3</td>\n",
       "      <td>False</td>\n",
       "      <td>-309</td>\n",
       "      <td>False</td>\n",
       "      <td>34.23</td>\n",
       "      <td>41.28</td>\n",
       "      <td>24.50</td>\n",
       "      <td>False</td>\n",
       "    </tr>\n",
       "    <tr>\n",
       "      <th>28</th>\n",
       "      <td>Team 29</td>\n",
       "      <td>12</td>\n",
       "      <td>421</td>\n",
       "      <td>380</td>\n",
       "      <td>125</td>\n",
       "      <td>81</td>\n",
       "      <td>174</td>\n",
       "      <td>458</td>\n",
       "      <td>623</td>\n",
       "      <td>0</td>\n",
       "      <td>0</td>\n",
       "      <td>1930</td>\n",
       "      <td>6</td>\n",
       "      <td>False</td>\n",
       "      <td>-165</td>\n",
       "      <td>False</td>\n",
       "      <td>32.89</td>\n",
       "      <td>45.79</td>\n",
       "      <td>21.32</td>\n",
       "      <td>False</td>\n",
       "    </tr>\n",
       "    <tr>\n",
       "      <th>6</th>\n",
       "      <td>Team 7</td>\n",
       "      <td>82</td>\n",
       "      <td>2792</td>\n",
       "      <td>2626</td>\n",
       "      <td>948</td>\n",
       "      <td>608</td>\n",
       "      <td>1070</td>\n",
       "      <td>3609</td>\n",
       "      <td>3889</td>\n",
       "      <td>0</td>\n",
       "      <td>0</td>\n",
       "      <td>1929</td>\n",
       "      <td>3</td>\n",
       "      <td>False</td>\n",
       "      <td>-280</td>\n",
       "      <td>False</td>\n",
       "      <td>36.10</td>\n",
       "      <td>40.75</td>\n",
       "      <td>23.15</td>\n",
       "      <td>False</td>\n",
       "    </tr>\n",
       "  </tbody>\n",
       "</table>\n",
       "</div>"
      ],
      "text/plain": [
       "       Team  Tournament  Score  PlayedGames  WonGames  DrawnGames  LostGames  \\\n",
       "20  Team 21          17    970          646       266         172        208   \n",
       "18  Team 19          27   1148          988       333         256        399   \n",
       "8    Team 9          58   2109         1986       698         522        766   \n",
       "17  Team 18          38   1174         1192       408         292        492   \n",
       "28  Team 29          12    421          380       125          81        174   \n",
       "6    Team 7          82   2792         2626       948         608       1070   \n",
       "\n",
       "    BasketScored  BasketGiven  TournamentChampion  Runner-up  TeamLaunch  \\\n",
       "20           892          789                   0          1        1998   \n",
       "18          1182         1371                   0          0        1960   \n",
       "8           2683         2847                   0          1        1939   \n",
       "17          1642         1951                   0          0        1933   \n",
       "28           458          623                   0          0        1930   \n",
       "6           3609         3889                   0          0        1929   \n",
       "\n",
       "    HighestPositionHeld  IfWinner  BasketDiff  NetScorer  Win Percent  \\\n",
       "20                    2     False         103       True        41.18   \n",
       "18                    3     False        -189      False        33.70   \n",
       "8                     2     False        -164      False        35.15   \n",
       "17                    3     False        -309      False        34.23   \n",
       "28                    6     False        -165      False        32.89   \n",
       "6                     3     False        -280      False        36.10   \n",
       "\n",
       "    Loss Percent  Drawn Percent  NetWinner  \n",
       "20         32.20          26.63       True  \n",
       "18         40.38          25.91      False  \n",
       "8          38.57          26.28      False  \n",
       "17         41.28          24.50      False  \n",
       "28         45.79          21.32      False  \n",
       "6          40.75          23.15      False  "
      ]
     },
     "execution_count": 43,
     "metadata": {},
     "output_type": "execute_result"
    }
   ],
   "source": [
    "d = basketball.sort_values('TournamentChampion',ascending=False) #Top 10 tournament champions\n",
    "d = d[10:] #Teams other than Top 10 champions\n",
    "# filter dataframe based on minimum metrics\n",
    "d = d.loc[(d['BasketDiff']>=-333) & (d['Win Percent']>=32.5) & (d['Runner-up']>=0) & (d['WonGames']>=52)]\n",
    "#Applying the Loss Percent filter results in 0 teams to be recommended\n",
    "d.sort_values('TeamLaunch',ascending=False) # Sort by newest teams first"
   ]
  },
  {
   "cell_type": "markdown",
   "id": "eae89f30",
   "metadata": {},
   "source": [
    "Based on the above analysis, I'd recommend Company X to approach Team Number 21, 19, 9, 18, 29 and 7 to get a winning deal. "
   ]
  },
  {
   "cell_type": "code",
   "execution_count": 44,
   "id": "bb4417c0",
   "metadata": {},
   "outputs": [
    {
     "data": {
      "text/html": [
       "<div>\n",
       "<style scoped>\n",
       "    .dataframe tbody tr th:only-of-type {\n",
       "        vertical-align: middle;\n",
       "    }\n",
       "\n",
       "    .dataframe tbody tr th {\n",
       "        vertical-align: top;\n",
       "    }\n",
       "\n",
       "    .dataframe thead th {\n",
       "        text-align: right;\n",
       "    }\n",
       "</style>\n",
       "<table border=\"1\" class=\"dataframe\">\n",
       "  <thead>\n",
       "    <tr style=\"text-align: right;\">\n",
       "      <th></th>\n",
       "      <th>Team</th>\n",
       "      <th>Tournament</th>\n",
       "      <th>Score</th>\n",
       "      <th>PlayedGames</th>\n",
       "      <th>WonGames</th>\n",
       "      <th>DrawnGames</th>\n",
       "      <th>LostGames</th>\n",
       "      <th>BasketScored</th>\n",
       "      <th>BasketGiven</th>\n",
       "      <th>TournamentChampion</th>\n",
       "      <th>Runner-up</th>\n",
       "      <th>TeamLaunch</th>\n",
       "      <th>HighestPositionHeld</th>\n",
       "      <th>IfWinner</th>\n",
       "      <th>BasketDiff</th>\n",
       "      <th>NetScorer</th>\n",
       "      <th>Win Percent</th>\n",
       "      <th>Loss Percent</th>\n",
       "      <th>Drawn Percent</th>\n",
       "      <th>NetWinner</th>\n",
       "    </tr>\n",
       "  </thead>\n",
       "  <tbody>\n",
       "    <tr>\n",
       "      <th>20</th>\n",
       "      <td>Team 21</td>\n",
       "      <td>17</td>\n",
       "      <td>970</td>\n",
       "      <td>646</td>\n",
       "      <td>266</td>\n",
       "      <td>172</td>\n",
       "      <td>208</td>\n",
       "      <td>892</td>\n",
       "      <td>789</td>\n",
       "      <td>0</td>\n",
       "      <td>1</td>\n",
       "      <td>1998</td>\n",
       "      <td>2</td>\n",
       "      <td>False</td>\n",
       "      <td>103</td>\n",
       "      <td>True</td>\n",
       "      <td>41.18</td>\n",
       "      <td>32.20</td>\n",
       "      <td>26.63</td>\n",
       "      <td>True</td>\n",
       "    </tr>\n",
       "    <tr>\n",
       "      <th>8</th>\n",
       "      <td>Team 9</td>\n",
       "      <td>58</td>\n",
       "      <td>2109</td>\n",
       "      <td>1986</td>\n",
       "      <td>698</td>\n",
       "      <td>522</td>\n",
       "      <td>766</td>\n",
       "      <td>2683</td>\n",
       "      <td>2847</td>\n",
       "      <td>0</td>\n",
       "      <td>1</td>\n",
       "      <td>1939</td>\n",
       "      <td>2</td>\n",
       "      <td>False</td>\n",
       "      <td>-164</td>\n",
       "      <td>False</td>\n",
       "      <td>35.15</td>\n",
       "      <td>38.57</td>\n",
       "      <td>26.28</td>\n",
       "      <td>False</td>\n",
       "    </tr>\n",
       "  </tbody>\n",
       "</table>\n",
       "</div>"
      ],
      "text/plain": [
       "       Team  Tournament  Score  PlayedGames  WonGames  DrawnGames  LostGames  \\\n",
       "20  Team 21          17    970          646       266         172        208   \n",
       "8    Team 9          58   2109         1986       698         522        766   \n",
       "\n",
       "    BasketScored  BasketGiven  TournamentChampion  Runner-up  TeamLaunch  \\\n",
       "20           892          789                   0          1        1998   \n",
       "8           2683         2847                   0          1        1939   \n",
       "\n",
       "    HighestPositionHeld  IfWinner  BasketDiff  NetScorer  Win Percent  \\\n",
       "20                    2     False         103       True        41.18   \n",
       "8                     2     False        -164      False        35.15   \n",
       "\n",
       "    Loss Percent  Drawn Percent  NetWinner  \n",
       "20         32.20          26.63       True  \n",
       "8          38.57          26.28      False  "
      ]
     },
     "execution_count": 44,
     "metadata": {},
     "output_type": "execute_result"
    }
   ],
   "source": [
    "#Team that has come as runner up at least 1 time\n",
    "d = d.loc[(d['BasketDiff']>=-333) & (d['Win Percent']>=32.5) & (d['Runner-up']>0) & (d['WonGames']>=52)]\n",
    "d.sort_values('Loss Percent',ascending=True) # Sort by lowest Loss Percent first"
   ]
  },
  {
   "cell_type": "markdown",
   "id": "e537e6b9",
   "metadata": {},
   "source": [
    "Team 21 is the most promising team based on the above analysis due to the following reasons:\n",
    "1. TeamLaunch is 1998 which is relatively young as most championship winning teams are older than 1940.\n",
    "2. Older teams are in contract with Company X. We don't know which teams are in contract. Hence, it is safe to assume that a new team is not in contract with Company X.\n",
    "3. Team 21 has also been a runner-up once in the tournament which boosts its future prospects to succeed.\n",
    "4. Team 21 is a NetScorer and a NetWinner compared to the other team which is old."
   ]
  },
  {
   "cell_type": "markdown",
   "id": "ca7dde6f",
   "metadata": {},
   "source": [
    "## 3.) Please include any improvements or suggestions to the association management on quality, quantity, variety, velocity, veracity etc. on the data points collected by the association to perform a better data analysis in future. At-least 1 suggestion for each point."
   ]
  },
  {
   "cell_type": "markdown",
   "id": "5bc68087",
   "metadata": {},
   "source": [
    "1. Quality - There aren't enough categorical variables in the data. Region of a particular team could have been included as a category for example.\n",
    "2. Quantity - What was the team ranking/highest position held in each year since the tournament began? Team performance in each year since it started in the championship should be provided for granularity.\n",
    "3. Variety - What factors contribute to winning tournament championships? Is team budget a factor? Data on budget would have been helpful to find a relationship. Size of staff could have been another variable.\n",
    "4. Velocity - We know from the above analysis that older teams have won more championships than newer teams. But what is the frequency of winning? In which years have they won the championships or been a runner-up?\n",
    "5. Veracity - Source of dataset has not been given for verification. If a source is given then additional variables could be suggested.\n",
    "6. Age - What is the mean age of teams that have won the championships? Is age a factor in winning championships?\n",
    "7. Which teams are already in contract with the Company X is not given. This data should be provided."
   ]
  },
  {
   "cell_type": "markdown",
   "id": "deccaad0",
   "metadata": {},
   "source": [
    "# Part C\n",
    "\n",
    "### DOMAIN: \n",
    "Startup ecosystem\n",
    "### CONTEXT: \n",
    "Company X is a EU online publisher focusing on the startups industry. The company specifically reports on the business related to technology news, analysis of emerging trends and profiling of new tech businesses and products. Their event i.e. Startup Battlefield is the world’s pre-eminent startup competition. Startup Battlefield features 15-30 top early stage startups pitching top judges in front of a vast live audience, present in person and online.\n",
    "### DATA DESCRIPTION: \n",
    "CompanyX_EU.csv - Each row in the dataset is a Start-up company and the columns describe the company.\n",
    "### DATA DICTIONARY:\n",
    "1. Startup: Name of the company\n",
    "2. Product: Actual product\n",
    "3. Funding: Funds raised by the company in USD\n",
    "4. Event: The event the company participated in\n",
    "5. Result: Described by Contestant, Finalist, Audience choice, Winner or Runner up\n",
    "6. OperatingState: Current status of the company, Operating ,Closed, Acquired or IPO\n",
    "*Dataset has been downloaded from the internet. All the credit for the dataset goes to the original creator of the data.\n",
    "### PROJECT OBJECTIVE: \n",
    "Analyse the data of the various companies from the given dataset and perform the tasks that are specified in the below steps. Draw insights from the various attributes that are present in the dataset, plot distributions, state hypotheses and draw conclusions from the dataset.\n",
    "\n",
    "## 1.) Read the CSV file."
   ]
  },
  {
   "cell_type": "code",
   "execution_count": 45,
   "id": "da1dfc7c",
   "metadata": {},
   "outputs": [
    {
     "data": {
      "text/html": [
       "<div>\n",
       "<style scoped>\n",
       "    .dataframe tbody tr th:only-of-type {\n",
       "        vertical-align: middle;\n",
       "    }\n",
       "\n",
       "    .dataframe tbody tr th {\n",
       "        vertical-align: top;\n",
       "    }\n",
       "\n",
       "    .dataframe thead th {\n",
       "        text-align: right;\n",
       "    }\n",
       "</style>\n",
       "<table border=\"1\" class=\"dataframe\">\n",
       "  <thead>\n",
       "    <tr style=\"text-align: right;\">\n",
       "      <th></th>\n",
       "      <th>Startup</th>\n",
       "      <th>Product</th>\n",
       "      <th>Funding</th>\n",
       "      <th>Event</th>\n",
       "      <th>Result</th>\n",
       "      <th>OperatingState</th>\n",
       "    </tr>\n",
       "  </thead>\n",
       "  <tbody>\n",
       "    <tr>\n",
       "      <th>0</th>\n",
       "      <td>2600Hz</td>\n",
       "      <td>2600hz.com</td>\n",
       "      <td>NaN</td>\n",
       "      <td>Disrupt SF 2013</td>\n",
       "      <td>Contestant</td>\n",
       "      <td>Operating</td>\n",
       "    </tr>\n",
       "    <tr>\n",
       "      <th>1</th>\n",
       "      <td>3DLT</td>\n",
       "      <td>3dlt.com</td>\n",
       "      <td>$630K</td>\n",
       "      <td>Disrupt NYC 2013</td>\n",
       "      <td>Contestant</td>\n",
       "      <td>Closed</td>\n",
       "    </tr>\n",
       "    <tr>\n",
       "      <th>2</th>\n",
       "      <td>3DPrinterOS</td>\n",
       "      <td>3dprinteros.com</td>\n",
       "      <td>NaN</td>\n",
       "      <td>Disrupt SF 2016</td>\n",
       "      <td>Contestant</td>\n",
       "      <td>Operating</td>\n",
       "    </tr>\n",
       "    <tr>\n",
       "      <th>3</th>\n",
       "      <td>3Dprintler</td>\n",
       "      <td>3dprintler.com</td>\n",
       "      <td>$1M</td>\n",
       "      <td>Disrupt NY 2016</td>\n",
       "      <td>Audience choice</td>\n",
       "      <td>Operating</td>\n",
       "    </tr>\n",
       "    <tr>\n",
       "      <th>4</th>\n",
       "      <td>42 Technologies</td>\n",
       "      <td>42technologies.com</td>\n",
       "      <td>NaN</td>\n",
       "      <td>Disrupt NYC 2013</td>\n",
       "      <td>Contestant</td>\n",
       "      <td>Operating</td>\n",
       "    </tr>\n",
       "  </tbody>\n",
       "</table>\n",
       "</div>"
      ],
      "text/plain": [
       "           Startup             Product Funding             Event  \\\n",
       "0           2600Hz          2600hz.com     NaN   Disrupt SF 2013   \n",
       "1             3DLT            3dlt.com   $630K  Disrupt NYC 2013   \n",
       "2      3DPrinterOS     3dprinteros.com     NaN   Disrupt SF 2016   \n",
       "3       3Dprintler      3dprintler.com     $1M   Disrupt NY 2016   \n",
       "4  42 Technologies  42technologies.com     NaN  Disrupt NYC 2013   \n",
       "\n",
       "            Result OperatingState  \n",
       "0       Contestant      Operating  \n",
       "1       Contestant         Closed  \n",
       "2       Contestant      Operating  \n",
       "3  Audience choice      Operating  \n",
       "4       Contestant      Operating  "
      ]
     },
     "execution_count": 45,
     "metadata": {},
     "output_type": "execute_result"
    }
   ],
   "source": [
    "df2 = pd.read_csv(\"DS - Part3 - CompanyX_EU.csv\") # Load the dataset in Pandas dataframe\n",
    "df2.head() # Display first 5 rows"
   ]
  },
  {
   "cell_type": "markdown",
   "id": "c8b89a1f",
   "metadata": {},
   "source": [
    "## 2.) Data Exploration:\n",
    "### A.) Check the datatypes of each attribute."
   ]
  },
  {
   "cell_type": "code",
   "execution_count": 46,
   "id": "073463cf",
   "metadata": {},
   "outputs": [
    {
     "data": {
      "text/plain": [
       "Startup           object\n",
       "Product           object\n",
       "Funding           object\n",
       "Event             object\n",
       "Result            object\n",
       "OperatingState    object\n",
       "dtype: object"
      ]
     },
     "execution_count": 46,
     "metadata": {},
     "output_type": "execute_result"
    }
   ],
   "source": [
    "df2.dtypes #Check datatype of each attribute"
   ]
  },
  {
   "cell_type": "markdown",
   "id": "085dd2a9",
   "metadata": {},
   "source": [
    "Startup, Product, Event, Result and OperatingState are categorical datas.\n",
    "Funding is numerical data.\n",
    "Startup and Product columns are likely to have unique rows.\n",
    "Event, Result and OperatingState will have common rows and can be used for grouping the data.\n",
    "Year of participation in an event can be extracted out of attribute event."
   ]
  },
  {
   "cell_type": "markdown",
   "id": "83bafcc0",
   "metadata": {},
   "source": [
    "### B.) Check for null values in the attributes."
   ]
  },
  {
   "cell_type": "code",
   "execution_count": 47,
   "id": "cda0d521",
   "metadata": {},
   "outputs": [
    {
     "data": {
      "text/plain": [
       "Startup             0\n",
       "Product             6\n",
       "Funding           214\n",
       "Event               0\n",
       "Result              0\n",
       "OperatingState      0\n",
       "dtype: int64"
      ]
     },
     "execution_count": 47,
     "metadata": {},
     "output_type": "execute_result"
    }
   ],
   "source": [
    "df2.isnull().sum() #Number of null values in each attribute column is added"
   ]
  },
  {
   "cell_type": "markdown",
   "id": "86cb3053",
   "metadata": {},
   "source": [
    "## 3.) Data preprocessing & visualisation:\n",
    "### A.) Drop the null values."
   ]
  },
  {
   "cell_type": "code",
   "execution_count": 48,
   "id": "897cd41b",
   "metadata": {},
   "outputs": [
    {
     "data": {
      "text/html": [
       "<div>\n",
       "<style scoped>\n",
       "    .dataframe tbody tr th:only-of-type {\n",
       "        vertical-align: middle;\n",
       "    }\n",
       "\n",
       "    .dataframe tbody tr th {\n",
       "        vertical-align: top;\n",
       "    }\n",
       "\n",
       "    .dataframe thead th {\n",
       "        text-align: right;\n",
       "    }\n",
       "</style>\n",
       "<table border=\"1\" class=\"dataframe\">\n",
       "  <thead>\n",
       "    <tr style=\"text-align: right;\">\n",
       "      <th></th>\n",
       "      <th>Startup</th>\n",
       "      <th>Product</th>\n",
       "      <th>Funding</th>\n",
       "      <th>Event</th>\n",
       "      <th>Result</th>\n",
       "      <th>OperatingState</th>\n",
       "    </tr>\n",
       "  </thead>\n",
       "  <tbody>\n",
       "    <tr>\n",
       "      <th>1</th>\n",
       "      <td>3DLT</td>\n",
       "      <td>3dlt.com</td>\n",
       "      <td>$630K</td>\n",
       "      <td>Disrupt NYC 2013</td>\n",
       "      <td>Contestant</td>\n",
       "      <td>Closed</td>\n",
       "    </tr>\n",
       "    <tr>\n",
       "      <th>3</th>\n",
       "      <td>3Dprintler</td>\n",
       "      <td>3dprintler.com</td>\n",
       "      <td>$1M</td>\n",
       "      <td>Disrupt NY 2016</td>\n",
       "      <td>Audience choice</td>\n",
       "      <td>Operating</td>\n",
       "    </tr>\n",
       "    <tr>\n",
       "      <th>5</th>\n",
       "      <td>5to1</td>\n",
       "      <td>5to1.com</td>\n",
       "      <td>$19.3M</td>\n",
       "      <td>TC50 2009</td>\n",
       "      <td>Contestant</td>\n",
       "      <td>Acquired</td>\n",
       "    </tr>\n",
       "    <tr>\n",
       "      <th>6</th>\n",
       "      <td>8 Securities</td>\n",
       "      <td>8securities.com</td>\n",
       "      <td>$29M</td>\n",
       "      <td>Disrupt Beijing 2011</td>\n",
       "      <td>Finalist</td>\n",
       "      <td>Operating</td>\n",
       "    </tr>\n",
       "    <tr>\n",
       "      <th>10</th>\n",
       "      <td>AdhereTech</td>\n",
       "      <td>adheretech.com</td>\n",
       "      <td>$1.8M</td>\n",
       "      <td>Hardware Battlefield 2014</td>\n",
       "      <td>Contestant</td>\n",
       "      <td>Operating</td>\n",
       "    </tr>\n",
       "  </tbody>\n",
       "</table>\n",
       "</div>"
      ],
      "text/plain": [
       "         Startup          Product Funding                      Event  \\\n",
       "1           3DLT         3dlt.com   $630K           Disrupt NYC 2013   \n",
       "3     3Dprintler   3dprintler.com     $1M            Disrupt NY 2016   \n",
       "5           5to1         5to1.com  $19.3M                  TC50 2009   \n",
       "6   8 Securities  8securities.com    $29M       Disrupt Beijing 2011   \n",
       "10    AdhereTech   adheretech.com   $1.8M  Hardware Battlefield 2014   \n",
       "\n",
       "             Result OperatingState  \n",
       "1        Contestant         Closed  \n",
       "3   Audience choice      Operating  \n",
       "5        Contestant       Acquired  \n",
       "6          Finalist      Operating  \n",
       "10       Contestant      Operating  "
      ]
     },
     "execution_count": 48,
     "metadata": {},
     "output_type": "execute_result"
    }
   ],
   "source": [
    "df3 = df2.dropna()#Command to drop null values\n",
    "df3.head()# Display first 5 rows"
   ]
  },
  {
   "cell_type": "markdown",
   "id": "c786b166",
   "metadata": {},
   "source": [
    "### B.) Convert the ‘Funding’ features to a numerical value."
   ]
  },
  {
   "cell_type": "code",
   "execution_count": 49,
   "id": "47954b19",
   "metadata": {},
   "outputs": [
    {
     "name": "stderr",
     "output_type": "stream",
     "text": [
      "/Users/rohan/opt/anaconda3/lib/python3.8/site-packages/pandas/core/indexing.py:1597: SettingWithCopyWarning: \n",
      "A value is trying to be set on a copy of a slice from a DataFrame.\n",
      "Try using .loc[row_indexer,col_indexer] = value instead\n",
      "\n",
      "See the caveats in the documentation: https://pandas.pydata.org/pandas-docs/stable/user_guide/indexing.html#returning-a-view-versus-a-copy\n",
      "  self.obj[key] = value\n",
      "/Users/rohan/opt/anaconda3/lib/python3.8/site-packages/pandas/core/indexing.py:1676: SettingWithCopyWarning: \n",
      "A value is trying to be set on a copy of a slice from a DataFrame.\n",
      "Try using .loc[row_indexer,col_indexer] = value instead\n",
      "\n",
      "See the caveats in the documentation: https://pandas.pydata.org/pandas-docs/stable/user_guide/indexing.html#returning-a-view-versus-a-copy\n",
      "  self._setitem_single_column(ilocs[0], value, pi)\n"
     ]
    },
    {
     "data": {
      "text/html": [
       "<div>\n",
       "<style scoped>\n",
       "    .dataframe tbody tr th:only-of-type {\n",
       "        vertical-align: middle;\n",
       "    }\n",
       "\n",
       "    .dataframe tbody tr th {\n",
       "        vertical-align: top;\n",
       "    }\n",
       "\n",
       "    .dataframe thead th {\n",
       "        text-align: right;\n",
       "    }\n",
       "</style>\n",
       "<table border=\"1\" class=\"dataframe\">\n",
       "  <thead>\n",
       "    <tr style=\"text-align: right;\">\n",
       "      <th></th>\n",
       "      <th>Startup</th>\n",
       "      <th>Product</th>\n",
       "      <th>Funding</th>\n",
       "      <th>Event</th>\n",
       "      <th>Result</th>\n",
       "      <th>OperatingState</th>\n",
       "      <th>Funds_in_million</th>\n",
       "    </tr>\n",
       "  </thead>\n",
       "  <tbody>\n",
       "    <tr>\n",
       "      <th>1</th>\n",
       "      <td>3DLT</td>\n",
       "      <td>3dlt.com</td>\n",
       "      <td>$630K</td>\n",
       "      <td>Disrupt NYC 2013</td>\n",
       "      <td>Contestant</td>\n",
       "      <td>Closed</td>\n",
       "      <td>0.63</td>\n",
       "    </tr>\n",
       "    <tr>\n",
       "      <th>3</th>\n",
       "      <td>3Dprintler</td>\n",
       "      <td>3dprintler.com</td>\n",
       "      <td>$1M</td>\n",
       "      <td>Disrupt NY 2016</td>\n",
       "      <td>Audience choice</td>\n",
       "      <td>Operating</td>\n",
       "      <td>1.00</td>\n",
       "    </tr>\n",
       "    <tr>\n",
       "      <th>5</th>\n",
       "      <td>5to1</td>\n",
       "      <td>5to1.com</td>\n",
       "      <td>$19.3M</td>\n",
       "      <td>TC50 2009</td>\n",
       "      <td>Contestant</td>\n",
       "      <td>Acquired</td>\n",
       "      <td>19.30</td>\n",
       "    </tr>\n",
       "    <tr>\n",
       "      <th>6</th>\n",
       "      <td>8 Securities</td>\n",
       "      <td>8securities.com</td>\n",
       "      <td>$29M</td>\n",
       "      <td>Disrupt Beijing 2011</td>\n",
       "      <td>Finalist</td>\n",
       "      <td>Operating</td>\n",
       "      <td>29.00</td>\n",
       "    </tr>\n",
       "    <tr>\n",
       "      <th>10</th>\n",
       "      <td>AdhereTech</td>\n",
       "      <td>adheretech.com</td>\n",
       "      <td>$1.8M</td>\n",
       "      <td>Hardware Battlefield 2014</td>\n",
       "      <td>Contestant</td>\n",
       "      <td>Operating</td>\n",
       "      <td>1.80</td>\n",
       "    </tr>\n",
       "  </tbody>\n",
       "</table>\n",
       "</div>"
      ],
      "text/plain": [
       "         Startup          Product Funding                      Event  \\\n",
       "1           3DLT         3dlt.com   $630K           Disrupt NYC 2013   \n",
       "3     3Dprintler   3dprintler.com     $1M            Disrupt NY 2016   \n",
       "5           5to1         5to1.com  $19.3M                  TC50 2009   \n",
       "6   8 Securities  8securities.com    $29M       Disrupt Beijing 2011   \n",
       "10    AdhereTech   adheretech.com   $1.8M  Hardware Battlefield 2014   \n",
       "\n",
       "             Result OperatingState  Funds_in_million  \n",
       "1        Contestant         Closed              0.63  \n",
       "3   Audience choice      Operating              1.00  \n",
       "5        Contestant       Acquired             19.30  \n",
       "6          Finalist      Operating             29.00  \n",
       "10       Contestant      Operating              1.80  "
      ]
     },
     "execution_count": 49,
     "metadata": {},
     "output_type": "execute_result"
    }
   ],
   "source": [
    "# Execute below code\n",
    "df3.loc[:,'Funds_in_million'] = df3['Funding'].apply(lambda x: float(x[1:-1])/1000 if x[-1] == 'K' else (float(x[1:-1])*1000 if x[-1] == 'B' else float(x[1:-1])));\n",
    "df3.head()# Display first 5 rows"
   ]
  },
  {
   "cell_type": "markdown",
   "id": "b960be1d",
   "metadata": {},
   "source": [
    "### C.) Plot box plot for funds in million."
   ]
  },
  {
   "cell_type": "code",
   "execution_count": 50,
   "id": "df2da3fb",
   "metadata": {},
   "outputs": [
    {
     "data": {
      "image/png": "[encoded data removed]",
      "text/plain": [
       "<Figure size 1080x360 with 1 Axes>"
      ]
     },
     "metadata": {
      "needs_background": "light"
     },
     "output_type": "display_data"
    }
   ],
   "source": [
    "fig, ax = plt.subplots(figsize=(15,5)) #Set Figure Size\n",
    "sns.boxplot(data=df3, y='Funds_in_million');"
   ]
  },
  {
   "cell_type": "markdown",
   "id": "6e627093",
   "metadata": {},
   "source": [
    "### D.) Check the number of outliers greater than the upper fence."
   ]
  },
  {
   "cell_type": "code",
   "execution_count": 51,
   "id": "179c6c93",
   "metadata": {},
   "outputs": [
    {
     "name": "stdout",
     "output_type": "stream",
     "text": [
      "The IQR of attribute Funds_in_million is: 8.72975\n",
      "The number of outliers greater than the upper fence is: 60\n"
     ]
    }
   ],
   "source": [
    "Q1 = df3['Funds_in_million'].quantile(0.25) #Calculate Q1\n",
    "Q3 = df3['Funds_in_million'].quantile(0.75) #Calculate Q3\n",
    "IQR = Q3 - Q1 #Calculate IQR (inter-quartile range)\n",
    "print(\"The IQR of attribute Funds_in_million is:\",IQR)\n",
    "print('The number of outliers greater than the upper fence is:',(df3['Funds_in_million'] > (Q3 + 1.5 * IQR)).sum())"
   ]
  },
  {
   "cell_type": "markdown",
   "id": "dd380d75",
   "metadata": {},
   "source": [
    "### E.) Check frequency of the OperatingState features classes."
   ]
  },
  {
   "cell_type": "code",
   "execution_count": 52,
   "id": "a2df94c5",
   "metadata": {},
   "outputs": [
    {
     "data": {
      "text/plain": [
       "Operating    319\n",
       "Acquired      66\n",
       "Closed        57\n",
       "Ipo            4\n",
       "Name: OperatingState, dtype: int64"
      ]
     },
     "execution_count": 52,
     "metadata": {},
     "output_type": "execute_result"
    }
   ],
   "source": [
    "df3['OperatingState'].value_counts() #Frequency table of the OperatingState features classes"
   ]
  },
  {
   "cell_type": "code",
   "execution_count": 53,
   "id": "07259d81",
   "metadata": {},
   "outputs": [
    {
     "data": {
      "text/plain": [
       "<AxesSubplot:xlabel='OperatingState', ylabel='count'>"
      ]
     },
     "execution_count": 53,
     "metadata": {},
     "output_type": "execute_result"
    },
    {
     "data": {
      "image/png": "[encoded data removed]",
      "text/plain": [
       "<Figure size 432x288 with 1 Axes>"
      ]
     },
     "metadata": {
      "needs_background": "light"
     },
     "output_type": "display_data"
    }
   ],
   "source": [
    "sns.countplot(x='OperatingState', data=df3) #Frequency plot of the OperatingState features classes"
   ]
  },
  {
   "cell_type": "markdown",
   "id": "22e59877",
   "metadata": {},
   "source": [
    "## 4.) Statistical Analysis:\n",
    "### A.) Is there any significant difference between Funds raised by companies that are still operating vs companies that closed down?"
   ]
  },
  {
   "cell_type": "code",
   "execution_count": 54,
   "id": "e69f1529",
   "metadata": {},
   "outputs": [
    {
     "data": {
      "text/html": [
       "<div>\n",
       "<style scoped>\n",
       "    .dataframe tbody tr th:only-of-type {\n",
       "        vertical-align: middle;\n",
       "    }\n",
       "\n",
       "    .dataframe tbody tr th {\n",
       "        vertical-align: top;\n",
       "    }\n",
       "\n",
       "    .dataframe thead th {\n",
       "        text-align: right;\n",
       "    }\n",
       "</style>\n",
       "<table border=\"1\" class=\"dataframe\">\n",
       "  <thead>\n",
       "    <tr style=\"text-align: right;\">\n",
       "      <th></th>\n",
       "      <th>Funds_in_million</th>\n",
       "    </tr>\n",
       "    <tr>\n",
       "      <th>OperatingState</th>\n",
       "      <th></th>\n",
       "    </tr>\n",
       "  </thead>\n",
       "  <tbody>\n",
       "    <tr>\n",
       "      <th>Acquired</th>\n",
       "      <td>872.0510</td>\n",
       "    </tr>\n",
       "    <tr>\n",
       "      <th>Closed</th>\n",
       "      <td>185.7157</td>\n",
       "    </tr>\n",
       "    <tr>\n",
       "      <th>Ipo</th>\n",
       "      <td>551.1000</td>\n",
       "    </tr>\n",
       "    <tr>\n",
       "      <th>Operating</th>\n",
       "      <td>6080.8372</td>\n",
       "    </tr>\n",
       "  </tbody>\n",
       "</table>\n",
       "</div>"
      ],
      "text/plain": [
       "                Funds_in_million\n",
       "OperatingState                  \n",
       "Acquired                872.0510\n",
       "Closed                  185.7157\n",
       "Ipo                     551.1000\n",
       "Operating              6080.8372"
      ]
     },
     "execution_count": 54,
     "metadata": {},
     "output_type": "execute_result"
    }
   ],
   "source": [
    "df3.groupby(['OperatingState']).sum()"
   ]
  },
  {
   "cell_type": "markdown",
   "id": "c52e5acd",
   "metadata": {},
   "source": [
    "From the above table, it is observed that there is a numerical difference between Funds raised by companies that are still operating vs companies that closed down!"
   ]
  },
  {
   "cell_type": "markdown",
   "id": "2edc651c",
   "metadata": {},
   "source": [
    "### B.) Write the null hypothesis and alternative hypothesis.\n",
    "**Null Hypothesis (H0)** = Funds raised by companies that are still operating vs companies that closed down have a significant difference between them.\n",
    "**Alternative Hypothesis (Ha)** = Funds raised by companies that are still operating vs companies that closed down have no significant difference between them."
   ]
  },
  {
   "cell_type": "markdown",
   "id": "02fddc32",
   "metadata": {},
   "source": [
    "### C.) Test for significance and conclusion\n",
    "This is an example of a two sample test. The two samples belong to the OperatingState category of Operating vs Closed. These two categories form two independent groups.\n",
    "\n",
    "A two sample t-test has to be performed to test for significance"
   ]
  },
  {
   "cell_type": "code",
   "execution_count": 55,
   "id": "81b57019",
   "metadata": {},
   "outputs": [
    {
     "name": "stdout",
     "output_type": "stream",
     "text": [
      "1.1382924515740138 0.25572701885629406\n",
      "two-sample t-test p-value= 0.25572701885629406\n"
     ]
    }
   ],
   "source": [
    "group1 = df3['OperatingState']=='Operating' #Array of rows where OperatingState is 'Operating'\n",
    "group1 = df3[group1]['Funds_in_million'] #Array of funds where OperatingState is 'Operating'\n",
    "group2 = df3['OperatingState']=='Closed' #Array of row where OperatingState is 'Closed'\n",
    "group2 = df3[group2]['Funds_in_million'] #Array of funds where OperatingState is 'Closed'\n",
    "# two-sample t-test\n",
    "from scipy.stats import ttest_ind\n",
    "t_statistic, p_value = ttest_ind(group1, group2)\n",
    "print(t_statistic, p_value)\n",
    "# p_value < 0.05 => alternative hypothesis:\n",
    "# they don't have the same mean at the 5% significance level\n",
    "print (\"two-sample t-test p-value=\", p_value)"
   ]
  },
  {
   "cell_type": "markdown",
   "id": "4bea4fcc",
   "metadata": {},
   "source": [
    "**Conclusion:**\n",
    "\n",
    "As p-value > 0.05, null hypothesis (H0) cannot be rejected."
   ]
  },
  {
   "cell_type": "markdown",
   "id": "0db3a8b6",
   "metadata": {},
   "source": [
    "### D.) Make a copy of the original data frame."
   ]
  },
  {
   "cell_type": "code",
   "execution_count": 56,
   "id": "c79a4287",
   "metadata": {},
   "outputs": [
    {
     "data": {
      "text/html": [
       "<div>\n",
       "<style scoped>\n",
       "    .dataframe tbody tr th:only-of-type {\n",
       "        vertical-align: middle;\n",
       "    }\n",
       "\n",
       "    .dataframe tbody tr th {\n",
       "        vertical-align: top;\n",
       "    }\n",
       "\n",
       "    .dataframe thead th {\n",
       "        text-align: right;\n",
       "    }\n",
       "</style>\n",
       "<table border=\"1\" class=\"dataframe\">\n",
       "  <thead>\n",
       "    <tr style=\"text-align: right;\">\n",
       "      <th></th>\n",
       "      <th>Startup</th>\n",
       "      <th>Product</th>\n",
       "      <th>Funding</th>\n",
       "      <th>Event</th>\n",
       "      <th>Result</th>\n",
       "      <th>OperatingState</th>\n",
       "    </tr>\n",
       "  </thead>\n",
       "  <tbody>\n",
       "    <tr>\n",
       "      <th>0</th>\n",
       "      <td>2600Hz</td>\n",
       "      <td>2600hz.com</td>\n",
       "      <td>NaN</td>\n",
       "      <td>Disrupt SF 2013</td>\n",
       "      <td>Contestant</td>\n",
       "      <td>Operating</td>\n",
       "    </tr>\n",
       "    <tr>\n",
       "      <th>1</th>\n",
       "      <td>3DLT</td>\n",
       "      <td>3dlt.com</td>\n",
       "      <td>$630K</td>\n",
       "      <td>Disrupt NYC 2013</td>\n",
       "      <td>Contestant</td>\n",
       "      <td>Closed</td>\n",
       "    </tr>\n",
       "    <tr>\n",
       "      <th>2</th>\n",
       "      <td>3DPrinterOS</td>\n",
       "      <td>3dprinteros.com</td>\n",
       "      <td>NaN</td>\n",
       "      <td>Disrupt SF 2016</td>\n",
       "      <td>Contestant</td>\n",
       "      <td>Operating</td>\n",
       "    </tr>\n",
       "    <tr>\n",
       "      <th>3</th>\n",
       "      <td>3Dprintler</td>\n",
       "      <td>3dprintler.com</td>\n",
       "      <td>$1M</td>\n",
       "      <td>Disrupt NY 2016</td>\n",
       "      <td>Audience choice</td>\n",
       "      <td>Operating</td>\n",
       "    </tr>\n",
       "    <tr>\n",
       "      <th>4</th>\n",
       "      <td>42 Technologies</td>\n",
       "      <td>42technologies.com</td>\n",
       "      <td>NaN</td>\n",
       "      <td>Disrupt NYC 2013</td>\n",
       "      <td>Contestant</td>\n",
       "      <td>Operating</td>\n",
       "    </tr>\n",
       "  </tbody>\n",
       "</table>\n",
       "</div>"
      ],
      "text/plain": [
       "           Startup             Product Funding             Event  \\\n",
       "0           2600Hz          2600hz.com     NaN   Disrupt SF 2013   \n",
       "1             3DLT            3dlt.com   $630K  Disrupt NYC 2013   \n",
       "2      3DPrinterOS     3dprinteros.com     NaN   Disrupt SF 2016   \n",
       "3       3Dprintler      3dprintler.com     $1M   Disrupt NY 2016   \n",
       "4  42 Technologies  42technologies.com     NaN  Disrupt NYC 2013   \n",
       "\n",
       "            Result OperatingState  \n",
       "0       Contestant      Operating  \n",
       "1       Contestant         Closed  \n",
       "2       Contestant      Operating  \n",
       "3  Audience choice      Operating  \n",
       "4       Contestant      Operating  "
      ]
     },
     "execution_count": 56,
     "metadata": {},
     "output_type": "execute_result"
    }
   ],
   "source": [
    "df2.head() #Original data frame"
   ]
  },
  {
   "cell_type": "markdown",
   "id": "81c0929d",
   "metadata": {},
   "source": [
    "### E.) Check frequency distribution of Result variables."
   ]
  },
  {
   "cell_type": "code",
   "execution_count": 57,
   "id": "9dccf6d2",
   "metadata": {},
   "outputs": [
    {
     "data": {
      "text/plain": [
       "Contestant         488\n",
       "Finalist            84\n",
       "Audience choice     41\n",
       "Winner              26\n",
       "Runner up           23\n",
       "Name: Result, dtype: int64"
      ]
     },
     "execution_count": 57,
     "metadata": {},
     "output_type": "execute_result"
    }
   ],
   "source": [
    "df2['Result'].value_counts() #Frequency table of the Result attribute"
   ]
  },
  {
   "cell_type": "code",
   "execution_count": 58,
   "id": "6368327d",
   "metadata": {},
   "outputs": [
    {
     "data": {
      "text/plain": [
       "<AxesSubplot:xlabel='Result', ylabel='count'>"
      ]
     },
     "execution_count": 58,
     "metadata": {},
     "output_type": "execute_result"
    },
    {
     "data": {
      "image/png": "[encoded data removed]",
      "text/plain": [
       "<Figure size 432x288 with 1 Axes>"
      ]
     },
     "metadata": {
      "needs_background": "light"
     },
     "output_type": "display_data"
    }
   ],
   "source": [
    "sns.countplot(x='Result', data=df2) #Frequency plot of the Result variables"
   ]
  },
  {
   "cell_type": "markdown",
   "id": "e25c33aa",
   "metadata": {},
   "source": [
    "### F.) Calculate percentage of winners that are still operating and percentage of contestants that are still operating"
   ]
  },
  {
   "cell_type": "code",
   "execution_count": 59,
   "id": "7b108dde",
   "metadata": {},
   "outputs": [
    {
     "data": {
      "text/html": [
       "<div>\n",
       "<style scoped>\n",
       "    .dataframe tbody tr th:only-of-type {\n",
       "        vertical-align: middle;\n",
       "    }\n",
       "\n",
       "    .dataframe tbody tr th {\n",
       "        vertical-align: top;\n",
       "    }\n",
       "\n",
       "    .dataframe thead th {\n",
       "        text-align: right;\n",
       "    }\n",
       "</style>\n",
       "<table border=\"1\" class=\"dataframe\">\n",
       "  <thead>\n",
       "    <tr style=\"text-align: right;\">\n",
       "      <th>Result</th>\n",
       "      <th>Audience choice</th>\n",
       "      <th>Contestant</th>\n",
       "      <th>Finalist</th>\n",
       "      <th>Runner up</th>\n",
       "      <th>Winner</th>\n",
       "    </tr>\n",
       "    <tr>\n",
       "      <th>OperatingState</th>\n",
       "      <th></th>\n",
       "      <th></th>\n",
       "      <th></th>\n",
       "      <th></th>\n",
       "      <th></th>\n",
       "    </tr>\n",
       "  </thead>\n",
       "  <tbody>\n",
       "    <tr>\n",
       "      <th>Acquired</th>\n",
       "      <td>0</td>\n",
       "      <td>62</td>\n",
       "      <td>15</td>\n",
       "      <td>2</td>\n",
       "      <td>7</td>\n",
       "    </tr>\n",
       "    <tr>\n",
       "      <th>Closed</th>\n",
       "      <td>9</td>\n",
       "      <td>90</td>\n",
       "      <td>7</td>\n",
       "      <td>0</td>\n",
       "      <td>0</td>\n",
       "    </tr>\n",
       "    <tr>\n",
       "      <th>Ipo</th>\n",
       "      <td>0</td>\n",
       "      <td>4</td>\n",
       "      <td>1</td>\n",
       "      <td>0</td>\n",
       "      <td>0</td>\n",
       "    </tr>\n",
       "    <tr>\n",
       "      <th>Operating</th>\n",
       "      <td>32</td>\n",
       "      <td>332</td>\n",
       "      <td>61</td>\n",
       "      <td>21</td>\n",
       "      <td>19</td>\n",
       "    </tr>\n",
       "  </tbody>\n",
       "</table>\n",
       "</div>"
      ],
      "text/plain": [
       "Result          Audience choice  Contestant  Finalist  Runner up  Winner\n",
       "OperatingState                                                          \n",
       "Acquired                      0          62        15          2       7\n",
       "Closed                        9          90         7          0       0\n",
       "Ipo                           0           4         1          0       0\n",
       "Operating                    32         332        61         21      19"
      ]
     },
     "execution_count": 59,
     "metadata": {},
     "output_type": "execute_result"
    }
   ],
   "source": [
    "pd.crosstab(df2['OperatingState'],df2['Result'])"
   ]
  },
  {
   "cell_type": "code",
   "execution_count": 60,
   "id": "d754badc",
   "metadata": {},
   "outputs": [
    {
     "name": "stdout",
     "output_type": "stream",
     "text": [
      "Percentage of winners that are still operating: 73.08\n"
     ]
    }
   ],
   "source": [
    "#Percentage of winners that are still operating\n",
    "winners = 26\n",
    "winner_opr = 19\n",
    "print('Percentage of winners that are still operating:',round((winner_opr/winners)*100,2))"
   ]
  },
  {
   "cell_type": "code",
   "execution_count": 61,
   "id": "25099ae1",
   "metadata": {},
   "outputs": [
    {
     "name": "stdout",
     "output_type": "stream",
     "text": [
      "Percentage of contestants that are still operating: 68.03\n"
     ]
    }
   ],
   "source": [
    "#Percentage of contestants that are still operating\n",
    "contestant = 488\n",
    "contestant_opr = 332\n",
    "print('Percentage of contestants that are still operating:',round((contestant_opr/contestant)*100,2))"
   ]
  },
  {
   "cell_type": "markdown",
   "id": "97fe0398",
   "metadata": {},
   "source": [
    "### G.) Write your hypothesis comparing the proportion of companies that are operating between winners and contestants:\n",
    "\n",
    "'Winner' and 'Contestant' are two categories in the attribute Result.\n",
    "We want to see if the proportion of operating companies in the Winner category is significantly less than it is in the Contestant category.\n",
    "\n",
    "Percentage of winners that are still operating: 73.08 %\n",
    "\n",
    "Percentage of contestants that are still operating: 68.03 %\n",
    "\n",
    "The proportions are different but are they statistically significant?\n",
    "\n",
    "**Null Hypothesis (H0)** = The proportion of companies that are operating between winners and contestants are equal\n",
    "\n",
    "**Alternative Hypothesis (Ha)** = The proportion of companies that are operating between winners and contestants are **NOT** equal."
   ]
  },
  {
   "cell_type": "markdown",
   "id": "87886134",
   "metadata": {},
   "source": [
    "### H.) Test for significance and conclusion\n",
    "Test of Proportions has to be conducted in this case."
   ]
  },
  {
   "cell_type": "code",
   "execution_count": 62,
   "id": "50acc4ac",
   "metadata": {},
   "outputs": [
    {
     "name": "stdout",
     "output_type": "stream",
     "text": [
      "With a p-value of 0.5902 the difference is not significant. aka |We fail to reject the null|\n"
     ]
    }
   ],
   "source": [
    "from statsmodels.stats.proportion import proportions_ztest\n",
    "\n",
    "stat, pval = proportions_ztest([winner_opr, contestant_opr] , [winners, contestant])\n",
    "\n",
    "if pval < 0.05:\n",
    "    print(f'With a p-value of {round(pval,4)} the difference is significant. aka |We reject the null|')\n",
    "else:\n",
    "    print(f'With a p-value of {round(pval,4)} the difference is not significant. aka |We fail to reject the null|')"
   ]
  },
  {
   "cell_type": "markdown",
   "id": "b913493f",
   "metadata": {},
   "source": [
    "**Conclusion**\n",
    "We fail to reject the null hypothesis (H0)!"
   ]
  },
  {
   "cell_type": "markdown",
   "id": "3cc61b24",
   "metadata": {},
   "source": [
    "### I.) Select only the Event that has ‘disrupt’ keyword from 2013 onwards."
   ]
  },
  {
   "cell_type": "code",
   "execution_count": 63,
   "id": "c773246c",
   "metadata": {},
   "outputs": [
    {
     "data": {
      "text/html": [
       "<div>\n",
       "<style scoped>\n",
       "    .dataframe tbody tr th:only-of-type {\n",
       "        vertical-align: middle;\n",
       "    }\n",
       "\n",
       "    .dataframe tbody tr th {\n",
       "        vertical-align: top;\n",
       "    }\n",
       "\n",
       "    .dataframe thead th {\n",
       "        text-align: right;\n",
       "    }\n",
       "</style>\n",
       "<table border=\"1\" class=\"dataframe\">\n",
       "  <thead>\n",
       "    <tr style=\"text-align: right;\">\n",
       "      <th></th>\n",
       "      <th>Startup</th>\n",
       "      <th>Product</th>\n",
       "      <th>Funding</th>\n",
       "      <th>Event</th>\n",
       "      <th>Result</th>\n",
       "      <th>OperatingState</th>\n",
       "      <th>EventYear</th>\n",
       "    </tr>\n",
       "  </thead>\n",
       "  <tbody>\n",
       "    <tr>\n",
       "      <th>0</th>\n",
       "      <td>2600Hz</td>\n",
       "      <td>2600hz.com</td>\n",
       "      <td>NaN</td>\n",
       "      <td>Disrupt SF 2013</td>\n",
       "      <td>Contestant</td>\n",
       "      <td>Operating</td>\n",
       "      <td>2013</td>\n",
       "    </tr>\n",
       "    <tr>\n",
       "      <th>1</th>\n",
       "      <td>3DLT</td>\n",
       "      <td>3dlt.com</td>\n",
       "      <td>$630K</td>\n",
       "      <td>Disrupt NYC 2013</td>\n",
       "      <td>Contestant</td>\n",
       "      <td>Closed</td>\n",
       "      <td>2013</td>\n",
       "    </tr>\n",
       "    <tr>\n",
       "      <th>2</th>\n",
       "      <td>3DPrinterOS</td>\n",
       "      <td>3dprinteros.com</td>\n",
       "      <td>NaN</td>\n",
       "      <td>Disrupt SF 2016</td>\n",
       "      <td>Contestant</td>\n",
       "      <td>Operating</td>\n",
       "      <td>2016</td>\n",
       "    </tr>\n",
       "    <tr>\n",
       "      <th>3</th>\n",
       "      <td>3Dprintler</td>\n",
       "      <td>3dprintler.com</td>\n",
       "      <td>$1M</td>\n",
       "      <td>Disrupt NY 2016</td>\n",
       "      <td>Audience choice</td>\n",
       "      <td>Operating</td>\n",
       "      <td>2016</td>\n",
       "    </tr>\n",
       "    <tr>\n",
       "      <th>4</th>\n",
       "      <td>42 Technologies</td>\n",
       "      <td>42technologies.com</td>\n",
       "      <td>NaN</td>\n",
       "      <td>Disrupt NYC 2013</td>\n",
       "      <td>Contestant</td>\n",
       "      <td>Operating</td>\n",
       "      <td>2013</td>\n",
       "    </tr>\n",
       "    <tr>\n",
       "      <th>...</th>\n",
       "      <td>...</td>\n",
       "      <td>...</td>\n",
       "      <td>...</td>\n",
       "      <td>...</td>\n",
       "      <td>...</td>\n",
       "      <td>...</td>\n",
       "      <td>...</td>\n",
       "    </tr>\n",
       "    <tr>\n",
       "      <th>653</th>\n",
       "      <td>ZAP!</td>\n",
       "      <td>zapreklam.com/</td>\n",
       "      <td>NaN</td>\n",
       "      <td>Disrupt EU 2014</td>\n",
       "      <td>Audience choice</td>\n",
       "      <td>Operating</td>\n",
       "      <td>2014</td>\n",
       "    </tr>\n",
       "    <tr>\n",
       "      <th>654</th>\n",
       "      <td>ZEFR</td>\n",
       "      <td>zefr.com</td>\n",
       "      <td>$62.1M</td>\n",
       "      <td>Disrupt NYC 2010</td>\n",
       "      <td>Contestant</td>\n",
       "      <td>Operating</td>\n",
       "      <td>2010</td>\n",
       "    </tr>\n",
       "    <tr>\n",
       "      <th>656</th>\n",
       "      <td>Zenefits</td>\n",
       "      <td>zenefits.com</td>\n",
       "      <td>$583.6M</td>\n",
       "      <td>Disrupt NYC 2013</td>\n",
       "      <td>Finalist</td>\n",
       "      <td>Operating</td>\n",
       "      <td>2013</td>\n",
       "    </tr>\n",
       "    <tr>\n",
       "      <th>660</th>\n",
       "      <td>Zula</td>\n",
       "      <td>zulaapp.com</td>\n",
       "      <td>$3.4M</td>\n",
       "      <td>Disrupt SF 2013</td>\n",
       "      <td>Audience choice</td>\n",
       "      <td>Operating</td>\n",
       "      <td>2013</td>\n",
       "    </tr>\n",
       "    <tr>\n",
       "      <th>661</th>\n",
       "      <td>Zumper</td>\n",
       "      <td>zumper.com</td>\n",
       "      <td>$31.5M</td>\n",
       "      <td>Disrupt SF 2012</td>\n",
       "      <td>Finalist</td>\n",
       "      <td>Operating</td>\n",
       "      <td>2012</td>\n",
       "    </tr>\n",
       "  </tbody>\n",
       "</table>\n",
       "<p>465 rows × 7 columns</p>\n",
       "</div>"
      ],
      "text/plain": [
       "             Startup             Product  Funding             Event  \\\n",
       "0             2600Hz          2600hz.com      NaN   Disrupt SF 2013   \n",
       "1               3DLT            3dlt.com    $630K  Disrupt NYC 2013   \n",
       "2        3DPrinterOS     3dprinteros.com      NaN   Disrupt SF 2016   \n",
       "3         3Dprintler      3dprintler.com      $1M   Disrupt NY 2016   \n",
       "4    42 Technologies  42technologies.com      NaN  Disrupt NYC 2013   \n",
       "..               ...                 ...      ...               ...   \n",
       "653             ZAP!      zapreklam.com/      NaN   Disrupt EU 2014   \n",
       "654             ZEFR            zefr.com   $62.1M  Disrupt NYC 2010   \n",
       "656         Zenefits        zenefits.com  $583.6M  Disrupt NYC 2013   \n",
       "660             Zula         zulaapp.com    $3.4M   Disrupt SF 2013   \n",
       "661           Zumper          zumper.com   $31.5M   Disrupt SF 2012   \n",
       "\n",
       "              Result OperatingState EventYear  \n",
       "0         Contestant      Operating      2013  \n",
       "1         Contestant         Closed      2013  \n",
       "2         Contestant      Operating      2016  \n",
       "3    Audience choice      Operating      2016  \n",
       "4         Contestant      Operating      2013  \n",
       "..               ...            ...       ...  \n",
       "653  Audience choice      Operating      2014  \n",
       "654       Contestant      Operating      2010  \n",
       "656         Finalist      Operating      2013  \n",
       "660  Audience choice      Operating      2013  \n",
       "661         Finalist      Operating      2012  \n",
       "\n",
       "[465 rows x 7 columns]"
      ]
     },
     "execution_count": 63,
     "metadata": {},
     "output_type": "execute_result"
    }
   ],
   "source": [
    "df2 = df2[df2['Event'].str.contains('Disrupt')] # Filtering the rows where Event has disrupt keyword\n",
    "df2['EventYear'] = df2['Event'].str[-4:] #Extract Year from Event attribute and create new Year column\n",
    "df2"
   ]
  },
  {
   "cell_type": "code",
   "execution_count": 64,
   "id": "8545485c",
   "metadata": {},
   "outputs": [
    {
     "data": {
      "text/plain": [
       "0       True\n",
       "1       True\n",
       "2       True\n",
       "3       True\n",
       "4       True\n",
       "       ...  \n",
       "653     True\n",
       "654    False\n",
       "656     True\n",
       "660     True\n",
       "661    False\n",
       "Name: EventYear, Length: 465, dtype: bool"
      ]
     },
     "execution_count": 64,
     "metadata": {},
     "output_type": "execute_result"
    }
   ],
   "source": [
    "df2['EventYear'] = df2['EventYear'].apply(pd.to_numeric)#Convert data type of EventYear column to numeric\n",
    "year_filter=df2['EventYear']>=2013 #Create year filter from 2013 onwards\n",
    "year_filter"
   ]
  },
  {
   "cell_type": "code",
   "execution_count": 65,
   "id": "4f439570",
   "metadata": {},
   "outputs": [
    {
     "data": {
      "text/plain": [
       "0          Disrupt SF 2013\n",
       "1         Disrupt NYC 2013\n",
       "2          Disrupt SF 2016\n",
       "3          Disrupt NY 2016\n",
       "4         Disrupt NYC 2013\n",
       "              ...         \n",
       "646    Disrupt London 2015\n",
       "648    Disrupt London 2015\n",
       "653        Disrupt EU 2014\n",
       "656       Disrupt NYC 2013\n",
       "660        Disrupt SF 2013\n",
       "Name: Event, Length: 276, dtype: object"
      ]
     },
     "execution_count": 65,
     "metadata": {},
     "output_type": "execute_result"
    }
   ],
   "source": [
    "year_filter = df2[year_filter]['Event'] #Pass year filter to extract events\n",
    "year_filter #Only the Event that has ‘disrupt’ keyword from 2013 onwards"
   ]
  }
 ],
 "metadata": {
  "kernelspec": {
   "display_name": "Python 3",
   "language": "python",
   "name": "python3"
  },
  "language_info": {
   "codemirror_mode": {
    "name": "ipython",
    "version": 3
   },
   "file_extension": ".py",
   "mimetype": "text/x-python",
   "name": "python",
   "nbconvert_exporter": "python",
   "pygments_lexer": "ipython3",
   "version": "3.8.8"
  }
 },
 "nbformat": 4,
 "nbformat_minor": 5
}
